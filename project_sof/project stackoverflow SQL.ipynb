{
 "cells": [
  {
   "cell_type": "code",
   "execution_count": 1,
   "metadata": {},
   "outputs": [
    {
     "name": "stdout",
     "output_type": "stream",
     "text": [
      "Requirement already satisfied: matplotlib==3.5.1 in /opt/conda/lib/python3.9/site-packages (3.5.1)\n",
      "Requirement already satisfied: cycler>=0.10 in /opt/conda/lib/python3.9/site-packages (from matplotlib==3.5.1) (0.11.0)\n",
      "Requirement already satisfied: packaging>=20.0 in /opt/conda/lib/python3.9/site-packages (from matplotlib==3.5.1) (21.3)\n",
      "Requirement already satisfied: python-dateutil>=2.7 in /opt/conda/lib/python3.9/site-packages (from matplotlib==3.5.1) (2.8.1)\n",
      "Requirement already satisfied: pillow>=6.2.0 in /opt/conda/lib/python3.9/site-packages (from matplotlib==3.5.1) (8.4.0)\n",
      "Requirement already satisfied: numpy>=1.17 in /opt/conda/lib/python3.9/site-packages (from matplotlib==3.5.1) (1.21.1)\n",
      "Requirement already satisfied: kiwisolver>=1.0.1 in /opt/conda/lib/python3.9/site-packages (from matplotlib==3.5.1) (1.4.4)\n",
      "Requirement already satisfied: pyparsing>=2.2.1 in /opt/conda/lib/python3.9/site-packages (from matplotlib==3.5.1) (2.4.7)\n",
      "Requirement already satisfied: fonttools>=4.22.0 in /opt/conda/lib/python3.9/site-packages (from matplotlib==3.5.1) (4.39.0)\n",
      "Requirement already satisfied: six>=1.5 in /opt/conda/lib/python3.9/site-packages (from python-dateutil>=2.7->matplotlib==3.5.1) (1.16.0)\n"
     ]
    }
   ],
   "source": [
    "!pip install matplotlib==3.5.1"
   ]
  },
  {
   "cell_type": "code",
   "execution_count": 2,
   "metadata": {
    "id": "nlZBlglMDWKe"
   },
   "outputs": [],
   "source": [
    "import pandas as pd\n",
    "import matplotlib.pyplot as plt\n",
    "import numpy as np\n",
    "from sqlalchemy import create_engine "
   ]
  },
  {
   "cell_type": "markdown",
   "metadata": {
    "id": "gnBMXkDBDWKm"
   },
   "source": [
    "# Задание 1"
   ]
  },
  {
   "cell_type": "markdown",
   "metadata": {
    "id": "vHsfOrrNDWKn"
   },
   "source": [
    "Выведите общую сумму просмотров постов за каждый месяц 2008 года. Если данных за какой-либо месяц в базе нет, такой месяц можно пропустить. Результат отсортируйте по убыванию общего количества просмотров."
   ]
  },
  {
   "cell_type": "markdown",
   "metadata": {
    "id": "N5rTgGNmDWKn"
   },
   "source": [
    "| month_date  | total_views |\n",
    "| ------------- | ------------- |\n",
    "| 2008-09-01  | 452928568  |\n",
    "| 2008-10-01  | 365400138  |\n",
    "| ...         | ... |"
   ]
  },
  {
   "cell_type": "code",
   "execution_count": 7,
   "metadata": {
    "id": "eWvykcXTDWKo"
   },
   "outputs": [],
   "source": [
    "# напишите запрос\n",
    "query = '''\n",
    "SELECT DISTINCT CAST(DATE_TRUNC('month',creation_date) AS date) AS month_date,                               \n",
    "        SUM(views_count) OVER (PARTITION BY CAST(DATE_TRUNC('month',creation_date) AS date)) AS total_views  \n",
    "FROM stackoverflow.posts                                                                                        \n",
    "WHERE CAST(DATE_TRUNC('month',creation_date) AS date) BETWEEN '2008-01-01' AND '2008-12-01'                  \n",
    "ORDER BY total_views DESC                                                                                    \n",
    "'''\n",
    "\n",
    "df1 = pd.read_sql_query(query, con=engine) "
   ]
  },
  {
   "cell_type": "code",
   "execution_count": 8,
   "metadata": {},
   "outputs": [
    {
     "data": {
      "text/html": [
       "<div>\n",
       "<style scoped>\n",
       "    .dataframe tbody tr th:only-of-type {\n",
       "        vertical-align: middle;\n",
       "    }\n",
       "\n",
       "    .dataframe tbody tr th {\n",
       "        vertical-align: top;\n",
       "    }\n",
       "\n",
       "    .dataframe thead th {\n",
       "        text-align: right;\n",
       "    }\n",
       "</style>\n",
       "<table border=\"1\" class=\"dataframe\">\n",
       "  <thead>\n",
       "    <tr style=\"text-align: right;\">\n",
       "      <th></th>\n",
       "      <th>month_date</th>\n",
       "      <th>total_views</th>\n",
       "    </tr>\n",
       "  </thead>\n",
       "  <tbody>\n",
       "    <tr>\n",
       "      <th>0</th>\n",
       "      <td>2008-09-01</td>\n",
       "      <td>452928568</td>\n",
       "    </tr>\n",
       "    <tr>\n",
       "      <th>1</th>\n",
       "      <td>2008-10-01</td>\n",
       "      <td>365400138</td>\n",
       "    </tr>\n",
       "    <tr>\n",
       "      <th>2</th>\n",
       "      <td>2008-11-01</td>\n",
       "      <td>221759651</td>\n",
       "    </tr>\n",
       "    <tr>\n",
       "      <th>3</th>\n",
       "      <td>2008-12-01</td>\n",
       "      <td>197792841</td>\n",
       "    </tr>\n",
       "    <tr>\n",
       "      <th>4</th>\n",
       "      <td>2008-08-01</td>\n",
       "      <td>131367083</td>\n",
       "    </tr>\n",
       "    <tr>\n",
       "      <th>5</th>\n",
       "      <td>2008-07-01</td>\n",
       "      <td>669895</td>\n",
       "    </tr>\n",
       "  </tbody>\n",
       "</table>\n",
       "</div>"
      ],
      "text/plain": [
       "   month_date  total_views\n",
       "0  2008-09-01    452928568\n",
       "1  2008-10-01    365400138\n",
       "2  2008-11-01    221759651\n",
       "3  2008-12-01    197792841\n",
       "4  2008-08-01    131367083\n",
       "5  2008-07-01       669895"
      ]
     },
     "execution_count": 8,
     "metadata": {},
     "output_type": "execute_result"
    }
   ],
   "source": [
    "df1"
   ]
  },
  {
   "cell_type": "markdown",
   "metadata": {
    "id": "I_ZvhOxkDWKp"
   },
   "source": [
    "Проанализируйте итоговую таблицу. Отличаются ли данные за разные месяцы? С чем могут быть связаны отличия?"
   ]
  },
  {
   "attachments": {},
   "cell_type": "markdown",
   "metadata": {
    "id": "luxSj17oDWKq"
   },
   "source": [
    "Отличия в кол-ве просмотров скорее всего связаны с началом работы stackoverflow: рост просмотров в июле, августе и пик в сентябре это запуск нового портала для программистов и по мере распространения информации о нем на него приходили посмотреть много интересующихся, а также просто любопытствующих, которые со временем начали \"отваливаться\" и этим можно объяснить снижение просмотров к концу 2008 года"
   ]
  },
  {
   "cell_type": "markdown",
   "metadata": {
    "id": "FziIXkn5DWKr"
   },
   "source": [
    "# Задание 2"
   ]
  },
  {
   "cell_type": "markdown",
   "metadata": {
    "id": "fTGESZvYDWKr"
   },
   "source": [
    "Выведите имена самых активных пользователей, которые в первый месяц после регистрации (включая день регистрации) дали больше 100 ответов. Вопросы, которые задавали пользователи, не учитывайте. Для каждого имени пользователя выведите количество уникальных значений `user_id`. Отсортируйте результат по полю с именами в лексикографическом порядке."
   ]
  },
  {
   "cell_type": "markdown",
   "metadata": {
    "id": "W5-tv6Y3DWKs"
   },
   "source": [
    "| display_name | count |\n",
    "| ------------ | ----- |\n",
    "| 1800 INFORMATION | 1 |\n",
    "| Adam Bellaire | 1 |\n",
    "| Adam Davis | 1 |\n",
    "| ... | ... |"
   ]
  },
  {
   "cell_type": "code",
   "execution_count": 9,
   "metadata": {
    "id": "fIO-y-YjDWKt"
   },
   "outputs": [],
   "source": [
    "# напишите запрос\n",
    "query = '''\n",
    "SELECT display_name,                                                                     \n",
    "       COUNT(DISTINCT user_id)                                                          \n",
    "FROM (                                                                                  \n",
    "\tSELECT DISTINCT p.user_id AS user_id,                                                \n",
    "\t\t   u.display_name,                                                               \n",
    "    \t   COUNT(p.id) OVER (PARTITION BY u.display_name) AS answer_qty,                 \n",
    "    \t   p.creation_date::date AS post_date,                                           \n",
    "    \t   u.creation_date::date AS reg_date                                            \n",
    "\tFROM stackoverflow.users AS u                                                        \n",
    "\tLEFT JOIN stackoverflow.posts AS p ON u.id=p.user_id                                 \n",
    "\tLEFT JOIN stackoverflow.post_types AS pt ON p.post_type_id=pt.id                     \n",
    "\tWHERE (pt.\"type\" = 'Answer') AND (p.creation_date::date BETWEEN                         \n",
    "                u.creation_date::date AND u.creation_date::date + INTERVAL '1 month')    \n",
    "\tORDER BY u.display_name                                                              \n",
    "\t) AS info\n",
    "WHERE answer_qty>100                                                                    \n",
    "GROUP BY display_name                                                                   \n",
    "ORDER BY 1;                                                                              \n",
    "'''\n",
    "\n",
    "df2 = pd.read_sql_query(query, con=engine) # выполните запрос\n"
   ]
  },
  {
   "cell_type": "code",
   "execution_count": 10,
   "metadata": {},
   "outputs": [
    {
     "data": {
      "text/html": [
       "<div>\n",
       "<style scoped>\n",
       "    .dataframe tbody tr th:only-of-type {\n",
       "        vertical-align: middle;\n",
       "    }\n",
       "\n",
       "    .dataframe tbody tr th {\n",
       "        vertical-align: top;\n",
       "    }\n",
       "\n",
       "    .dataframe thead th {\n",
       "        text-align: right;\n",
       "    }\n",
       "</style>\n",
       "<table border=\"1\" class=\"dataframe\">\n",
       "  <thead>\n",
       "    <tr style=\"text-align: right;\">\n",
       "      <th></th>\n",
       "      <th>display_name</th>\n",
       "      <th>count</th>\n",
       "    </tr>\n",
       "  </thead>\n",
       "  <tbody>\n",
       "    <tr>\n",
       "      <th>0</th>\n",
       "      <td>1800 INFORMATION</td>\n",
       "      <td>1</td>\n",
       "    </tr>\n",
       "    <tr>\n",
       "      <th>1</th>\n",
       "      <td>Adam Bellaire</td>\n",
       "      <td>1</td>\n",
       "    </tr>\n",
       "    <tr>\n",
       "      <th>2</th>\n",
       "      <td>Adam Davis</td>\n",
       "      <td>1</td>\n",
       "    </tr>\n",
       "    <tr>\n",
       "      <th>3</th>\n",
       "      <td>Adam Liss</td>\n",
       "      <td>1</td>\n",
       "    </tr>\n",
       "    <tr>\n",
       "      <th>4</th>\n",
       "      <td>Alan</td>\n",
       "      <td>8</td>\n",
       "    </tr>\n",
       "    <tr>\n",
       "      <th>...</th>\n",
       "      <td>...</td>\n",
       "      <td>...</td>\n",
       "    </tr>\n",
       "    <tr>\n",
       "      <th>74</th>\n",
       "      <td>lomaxx</td>\n",
       "      <td>1</td>\n",
       "    </tr>\n",
       "    <tr>\n",
       "      <th>75</th>\n",
       "      <td>mattlant</td>\n",
       "      <td>1</td>\n",
       "    </tr>\n",
       "    <tr>\n",
       "      <th>76</th>\n",
       "      <td>paxdiablo</td>\n",
       "      <td>1</td>\n",
       "    </tr>\n",
       "    <tr>\n",
       "      <th>77</th>\n",
       "      <td>tvanfosson</td>\n",
       "      <td>1</td>\n",
       "    </tr>\n",
       "    <tr>\n",
       "      <th>78</th>\n",
       "      <td>tzot</td>\n",
       "      <td>1</td>\n",
       "    </tr>\n",
       "  </tbody>\n",
       "</table>\n",
       "<p>79 rows × 2 columns</p>\n",
       "</div>"
      ],
      "text/plain": [
       "        display_name  count\n",
       "0   1800 INFORMATION      1\n",
       "1      Adam Bellaire      1\n",
       "2         Adam Davis      1\n",
       "3          Adam Liss      1\n",
       "4               Alan      8\n",
       "..               ...    ...\n",
       "74            lomaxx      1\n",
       "75          mattlant      1\n",
       "76         paxdiablo      1\n",
       "77        tvanfosson      1\n",
       "78              tzot      1\n",
       "\n",
       "[79 rows x 2 columns]"
      ]
     },
     "execution_count": 10,
     "metadata": {},
     "output_type": "execute_result"
    }
   ],
   "source": [
    "df2"
   ]
  },
  {
   "cell_type": "markdown",
   "metadata": {},
   "source": [
    "Посмотрим на пользователей с кол-вом user_id больше 1:"
   ]
  },
  {
   "cell_type": "code",
   "execution_count": 11,
   "metadata": {},
   "outputs": [],
   "source": [
    "query = '''\n",
    "WITH inf AS (                                                                            \n",
    "SELECT display_name,                                                                     \n",
    "       COUNT(DISTINCT user_id) AS user_id_qty                                            \n",
    "FROM (                                                                                   \n",
    "\tSELECT DISTINCT p.user_id AS user_id,                                               \n",
    "\t\t   u.display_name,                                                               \n",
    "    \t   COUNT(p.id) OVER (PARTITION BY u.display_name) AS answer_qty,                 \n",
    "    \t   p.creation_date::date AS post_date,                                           \n",
    "    \t   u.creation_date::date AS reg_date                                            \n",
    "\tFROM stackoverflow.users AS u                                                        \n",
    "\tLEFT JOIN stackoverflow.posts AS p ON u.id=p.user_id                                    \n",
    "\tLEFT JOIN stackoverflow.post_types AS pt ON p.post_type_id=pt.id                     \n",
    "\tWHERE (pt.\"type\" = 'Answer') AND (p.creation_date::date BETWEEN                        \n",
    "                u.creation_date::date AND u.creation_date::date + INTERVAL '1 month')    \n",
    "\tORDER BY u.display_name                                                              \n",
    "\t) AS info\n",
    "WHERE answer_qty>100                                                                    \n",
    "GROUP BY display_name                                                                    \n",
    "ORDER BY 1                                                                               \n",
    ")\n",
    "SELECT *                                                                                 \n",
    "FROM inf                                                                                 \n",
    "WHERE user_id_qty > 1                                                                        \n",
    "'''\n",
    "\n",
    "df3 = pd.read_sql_query(query, con=engine) # выполните запрос\n"
   ]
  },
  {
   "cell_type": "code",
   "execution_count": 12,
   "metadata": {},
   "outputs": [
    {
     "data": {
      "text/html": [
       "<div>\n",
       "<style scoped>\n",
       "    .dataframe tbody tr th:only-of-type {\n",
       "        vertical-align: middle;\n",
       "    }\n",
       "\n",
       "    .dataframe tbody tr th {\n",
       "        vertical-align: top;\n",
       "    }\n",
       "\n",
       "    .dataframe thead th {\n",
       "        text-align: right;\n",
       "    }\n",
       "</style>\n",
       "<table border=\"1\" class=\"dataframe\">\n",
       "  <thead>\n",
       "    <tr style=\"text-align: right;\">\n",
       "      <th></th>\n",
       "      <th>display_name</th>\n",
       "      <th>user_id_qty</th>\n",
       "    </tr>\n",
       "  </thead>\n",
       "  <tbody>\n",
       "    <tr>\n",
       "      <th>0</th>\n",
       "      <td>Alan</td>\n",
       "      <td>8</td>\n",
       "    </tr>\n",
       "    <tr>\n",
       "      <th>1</th>\n",
       "      <td>Brian</td>\n",
       "      <td>15</td>\n",
       "    </tr>\n",
       "    <tr>\n",
       "      <th>2</th>\n",
       "      <td>Chris</td>\n",
       "      <td>29</td>\n",
       "    </tr>\n",
       "    <tr>\n",
       "      <th>3</th>\n",
       "      <td>Craig</td>\n",
       "      <td>10</td>\n",
       "    </tr>\n",
       "    <tr>\n",
       "      <th>4</th>\n",
       "      <td>Dan</td>\n",
       "      <td>21</td>\n",
       "    </tr>\n",
       "    <tr>\n",
       "      <th>5</th>\n",
       "      <td>Greg</td>\n",
       "      <td>12</td>\n",
       "    </tr>\n",
       "    <tr>\n",
       "      <th>6</th>\n",
       "      <td>Jim</td>\n",
       "      <td>7</td>\n",
       "    </tr>\n",
       "    <tr>\n",
       "      <th>7</th>\n",
       "      <td>Joe</td>\n",
       "      <td>9</td>\n",
       "    </tr>\n",
       "    <tr>\n",
       "      <th>8</th>\n",
       "      <td>Josh</td>\n",
       "      <td>16</td>\n",
       "    </tr>\n",
       "    <tr>\n",
       "      <th>9</th>\n",
       "      <td>Keith</td>\n",
       "      <td>5</td>\n",
       "    </tr>\n",
       "    <tr>\n",
       "      <th>10</th>\n",
       "      <td>Kevin</td>\n",
       "      <td>11</td>\n",
       "    </tr>\n",
       "    <tr>\n",
       "      <th>11</th>\n",
       "      <td>Mark</td>\n",
       "      <td>17</td>\n",
       "    </tr>\n",
       "    <tr>\n",
       "      <th>12</th>\n",
       "      <td>Matt</td>\n",
       "      <td>29</td>\n",
       "    </tr>\n",
       "    <tr>\n",
       "      <th>13</th>\n",
       "      <td>Nick</td>\n",
       "      <td>16</td>\n",
       "    </tr>\n",
       "    <tr>\n",
       "      <th>14</th>\n",
       "      <td>Oli</td>\n",
       "      <td>3</td>\n",
       "    </tr>\n",
       "    <tr>\n",
       "      <th>15</th>\n",
       "      <td>Rob</td>\n",
       "      <td>15</td>\n",
       "    </tr>\n",
       "    <tr>\n",
       "      <th>16</th>\n",
       "      <td>Ryan</td>\n",
       "      <td>10</td>\n",
       "    </tr>\n",
       "    <tr>\n",
       "      <th>17</th>\n",
       "      <td>Tom</td>\n",
       "      <td>19</td>\n",
       "    </tr>\n",
       "    <tr>\n",
       "      <th>18</th>\n",
       "      <td>jfs</td>\n",
       "      <td>3</td>\n",
       "    </tr>\n",
       "  </tbody>\n",
       "</table>\n",
       "</div>"
      ],
      "text/plain": [
       "   display_name  user_id_qty\n",
       "0          Alan            8\n",
       "1         Brian           15\n",
       "2         Chris           29\n",
       "3         Craig           10\n",
       "4           Dan           21\n",
       "5          Greg           12\n",
       "6           Jim            7\n",
       "7           Joe            9\n",
       "8          Josh           16\n",
       "9         Keith            5\n",
       "10        Kevin           11\n",
       "11         Mark           17\n",
       "12         Matt           29\n",
       "13         Nick           16\n",
       "14          Oli            3\n",
       "15          Rob           15\n",
       "16         Ryan           10\n",
       "17          Tom           19\n",
       "18          jfs            3"
      ]
     },
     "execution_count": 12,
     "metadata": {},
     "output_type": "execute_result"
    }
   ],
   "source": [
    "df3"
   ]
  },
  {
   "cell_type": "markdown",
   "metadata": {
    "id": "I3Wr82TplKpI"
   },
   "source": [
    "Какие аномалии наблюдаются в данных? О чём они говорят?"
   ]
  },
  {
   "cell_type": "markdown",
   "metadata": {
    "id": "CEIGGQ6ODWKy"
   },
   "source": [
    "Как мы видим из таблицы выше несколько user_id у пользователей с простыми display_name, в которых присутствует только одно имя.Это значит что либо один и тот же человек регистрировался по несколько раз, либо другие пользователи использовали только имя для своей регистрации, а оно совпадало с ранее зарагистрированным."
   ]
  },
  {
   "cell_type": "markdown",
   "metadata": {
    "id": "JhM2xXj5DWKu"
   },
   "source": [
    "# Задание 3"
   ]
  },
  {
   "cell_type": "markdown",
   "metadata": {
    "id": "IS6xPqyyDWKu"
   },
   "source": [
    "Выведите количество постов за 2008 год по месяцам. Отберите посты от пользователей, которые зарегистрировались в сентябре 2008 года и сделали хотя бы один пост в декабре того же года. Отсортируйте таблицу по значению месяца по убыванию."
   ]
  },
  {
   "cell_type": "markdown",
   "metadata": {
    "id": "WmjhjV2xDWKv"
   },
   "source": [
    "| month | count |\n",
    "| ------|------ |\n",
    "| 2008-12-01 | 17641 |\n",
    "| 2008-11-01 | 18294 |\n",
    "| ... | ... |"
   ]
  },
  {
   "cell_type": "code",
   "execution_count": 13,
   "metadata": {
    "id": "kVu0FB8WDWKv"
   },
   "outputs": [],
   "source": [
    "# напишите запрос\n",
    "query = '''\n",
    "SELECT date_trunc('month', p.creation_date)::date  AS \"month\",                       \n",
    "       COUNT(info.id)                                                                  \n",
    "FROM (                                                                               \n",
    "    SELECT DISTINCT u.id,                                                            \n",
    "\t\t\t      date_trunc('month', u.creation_date)::date  AS reg_date,           \n",
    "\t   \t\t\t  date_trunc('month', p.creation_date)::date AS post_date           \n",
    "\tFROM stackoverflow.users AS u                                                    \n",
    "\tLEFT JOIN stackoverflow.posts AS p ON u.id = p.user_id                          \n",
    "\tWHERE (date_trunc('month', u.creation_date)::date = '2008-09-01') AND            \n",
    "    \t  (date_trunc('month', p.creation_date)::date='2008-12-01')                 \n",
    "\tORDER BY u.id                                                                    \n",
    "\t\t\t) AS info\n",
    "LEFT JOIN stackoverflow.posts AS p ON info.id=p.user_id \t                         \n",
    "GROUP BY 1                                                                             \n",
    "ORDER BY 1 desc;                                                                    \n",
    "'''\n",
    "\n",
    "df4 = pd.read_sql_query(query, con=engine)"
   ]
  },
  {
   "cell_type": "code",
   "execution_count": 14,
   "metadata": {},
   "outputs": [
    {
     "data": {
      "text/html": [
       "<div>\n",
       "<style scoped>\n",
       "    .dataframe tbody tr th:only-of-type {\n",
       "        vertical-align: middle;\n",
       "    }\n",
       "\n",
       "    .dataframe tbody tr th {\n",
       "        vertical-align: top;\n",
       "    }\n",
       "\n",
       "    .dataframe thead th {\n",
       "        text-align: right;\n",
       "    }\n",
       "</style>\n",
       "<table border=\"1\" class=\"dataframe\">\n",
       "  <thead>\n",
       "    <tr style=\"text-align: right;\">\n",
       "      <th></th>\n",
       "      <th>month</th>\n",
       "      <th>count</th>\n",
       "    </tr>\n",
       "  </thead>\n",
       "  <tbody>\n",
       "    <tr>\n",
       "      <th>0</th>\n",
       "      <td>2008-12-01</td>\n",
       "      <td>17641</td>\n",
       "    </tr>\n",
       "    <tr>\n",
       "      <th>1</th>\n",
       "      <td>2008-11-01</td>\n",
       "      <td>18294</td>\n",
       "    </tr>\n",
       "    <tr>\n",
       "      <th>2</th>\n",
       "      <td>2008-10-01</td>\n",
       "      <td>27171</td>\n",
       "    </tr>\n",
       "    <tr>\n",
       "      <th>3</th>\n",
       "      <td>2008-09-01</td>\n",
       "      <td>24870</td>\n",
       "    </tr>\n",
       "    <tr>\n",
       "      <th>4</th>\n",
       "      <td>2008-08-01</td>\n",
       "      <td>32</td>\n",
       "    </tr>\n",
       "  </tbody>\n",
       "</table>\n",
       "</div>"
      ],
      "text/plain": [
       "        month  count\n",
       "0  2008-12-01  17641\n",
       "1  2008-11-01  18294\n",
       "2  2008-10-01  27171\n",
       "3  2008-09-01  24870\n",
       "4  2008-08-01     32"
      ]
     },
     "execution_count": 14,
     "metadata": {},
     "output_type": "execute_result"
    }
   ],
   "source": [
    "df4"
   ]
  },
  {
   "cell_type": "markdown",
   "metadata": {
    "id": "Vnxn9DVHDWKx"
   },
   "source": [
    "Изучите данные: есть ли в них аномалии? Предположите, почему могли появиться аномальные значения."
   ]
  },
  {
   "cell_type": "markdown",
   "metadata": {
    "id": "MMVIz4yMlKpN"
   },
   "source": [
    "В данных мы видим аномалии - откуда-то в августе взялись посты людей, зарегистрированных в сентябре! \n"
   ]
  },
  {
   "cell_type": "markdown",
   "metadata": {},
   "source": [
    "Найдем, кто это мог начать отвечать на вопросы до регистрации на сайте:"
   ]
  },
  {
   "cell_type": "code",
   "execution_count": 15,
   "metadata": {},
   "outputs": [],
   "source": [
    "# напишите запрос\n",
    "query = '''\n",
    "SELECT DISTINCT info.id,                                                              \n",
    "       display_name,                                                                 \n",
    "       date_trunc('month', p.creation_date)::date  AS \"month\",                        \n",
    "       reg_date                                                                       \n",
    "FROM (                                                                                   \n",
    "    SELECT DISTINCT u.id,                                                             \n",
    "\t\t   date_trunc('month', u.creation_date)::date  AS reg_date,                  \n",
    "\t   \t   date_trunc('month', p.creation_date)::date AS post_date,                   \n",
    "\t   \t   u.display_name                                                             \n",
    "\tFROM stackoverflow.users AS u                                                           \n",
    "\tLEFT JOIN stackoverflow.posts AS p ON u.id = p.user_id                            \n",
    "\tWHERE (date_trunc('month', u.creation_date)::date = '2008-09-01') AND             \n",
    "    \t  (date_trunc('month', p.creation_date)::date='2008-12-01')                   \n",
    "\tORDER BY u.id                                                                      \n",
    "\t\t\t) AS info\n",
    "LEFT JOIN stackoverflow.posts AS p ON info.id=p.user_id \t                          \n",
    "WHERE date_trunc('month', p.creation_date)::date = '2008-08-01'                       \n",
    "GROUP BY 1, 2, 3, 4                                                                   \n",
    "ORDER BY 1 desc;                                                                      \n",
    "'''\n",
    "\n",
    "df5 = pd.read_sql_query(query, con=engine)"
   ]
  },
  {
   "cell_type": "code",
   "execution_count": 16,
   "metadata": {},
   "outputs": [
    {
     "data": {
      "text/html": [
       "<div>\n",
       "<style scoped>\n",
       "    .dataframe tbody tr th:only-of-type {\n",
       "        vertical-align: middle;\n",
       "    }\n",
       "\n",
       "    .dataframe tbody tr th {\n",
       "        vertical-align: top;\n",
       "    }\n",
       "\n",
       "    .dataframe thead th {\n",
       "        text-align: right;\n",
       "    }\n",
       "</style>\n",
       "<table border=\"1\" class=\"dataframe\">\n",
       "  <thead>\n",
       "    <tr style=\"text-align: right;\">\n",
       "      <th></th>\n",
       "      <th>id</th>\n",
       "      <th>display_name</th>\n",
       "      <th>month</th>\n",
       "      <th>reg_date</th>\n",
       "    </tr>\n",
       "  </thead>\n",
       "  <tbody>\n",
       "    <tr>\n",
       "      <th>0</th>\n",
       "      <td>31505</td>\n",
       "      <td>Serhat Ozgel</td>\n",
       "      <td>2008-08-01</td>\n",
       "      <td>2008-09-01</td>\n",
       "    </tr>\n",
       "    <tr>\n",
       "      <th>1</th>\n",
       "      <td>4381</td>\n",
       "      <td>Vicent Marti</td>\n",
       "      <td>2008-08-01</td>\n",
       "      <td>2008-09-01</td>\n",
       "    </tr>\n",
       "  </tbody>\n",
       "</table>\n",
       "</div>"
      ],
      "text/plain": [
       "      id  display_name       month    reg_date\n",
       "0  31505  Serhat Ozgel  2008-08-01  2008-09-01\n",
       "1   4381  Vicent Marti  2008-08-01  2008-09-01"
      ]
     },
     "execution_count": 16,
     "metadata": {},
     "output_type": "execute_result"
    }
   ],
   "source": [
    "df5"
   ]
  },
  {
   "cell_type": "markdown",
   "metadata": {},
   "source": [
    "Мы видим 2-х человек кто отвечал на вопросы до регистрации на сайте. В данном случае возможны 2 варианта:\n",
    "1. stackoverflow был взломан этими людьми (шутка)))\n",
    "2. Оба человека были частью команды или тестировщиками и имели доступ к сайту изнутри, без необходимости регистрироваться как сторонний пользователь."
   ]
  },
  {
   "cell_type": "markdown",
   "metadata": {
    "id": "5Pcizm0DDWKz"
   },
   "source": [
    "# Задание 4"
   ]
  },
  {
   "cell_type": "markdown",
   "metadata": {
    "id": "KUZPF6vHDWKz"
   },
   "source": [
    "Используя данные о постах, выведите несколько полей:\n",
    "\n",
    "- идентификатор пользователя, который написал пост;\n",
    "- дата создания поста;\n",
    "- количество просмотров у текущего поста;\n",
    "- сумму просмотров постов автора с накоплением.\n",
    "\n",
    "Данные в таблице должны быть отсортированы по возрастанию идентификаторов пользователей, а данные об одном и том же пользователе — по возрастанию даты создания поста."
   ]
  },
  {
   "cell_type": "markdown",
   "metadata": {
    "id": "ZpsTUVDYDWK0"
   },
   "source": [
    "| user_id | creation_date | views_count | cumulative_count |\n",
    "| ------ | -------------- | ----------- | ---------------- |\n",
    "| 1 | 2008-07-31 23:41:00  | 480476   | 480476  |\n",
    "| 1 | 2008-07-31 23:55:38  | 136033 | 616509  | \n",
    "| 1 | 2008-07-31 23:56:41  | 0 |  616509  |\n",
    "| ... | ... | ... | ... |\n",
    "| 2 | 2008-07-31 23:56:41 | 79087  | 79087 |\n",
    "| 2 | 2008-08-01 05:09:56 | 65443 | 144530 |\n",
    "| ... | ...  | ...  | ...  |"
   ]
  },
  {
   "cell_type": "code",
   "execution_count": 17,
   "metadata": {
    "id": "hDoJhMzfDWK0"
   },
   "outputs": [],
   "source": [
    "# напишите запрос\n",
    "query = '''\n",
    "SELECT user_id,                                                                                \n",
    "       creation_date,                                                                             \n",
    "       views_count,                                                                            \n",
    "       sum(views_count) OVER (PARTITION BY user_id ORDER BY creation_date) AS comulative_count  \n",
    "FROM stackoverflow.posts;                                                                       \n",
    "'''\n",
    "\n",
    "df6 = pd.read_sql_query(query, con=engine)"
   ]
  },
  {
   "cell_type": "code",
   "execution_count": 18,
   "metadata": {},
   "outputs": [
    {
     "data": {
      "text/html": [
       "<div>\n",
       "<style scoped>\n",
       "    .dataframe tbody tr th:only-of-type {\n",
       "        vertical-align: middle;\n",
       "    }\n",
       "\n",
       "    .dataframe tbody tr th {\n",
       "        vertical-align: top;\n",
       "    }\n",
       "\n",
       "    .dataframe thead th {\n",
       "        text-align: right;\n",
       "    }\n",
       "</style>\n",
       "<table border=\"1\" class=\"dataframe\">\n",
       "  <thead>\n",
       "    <tr style=\"text-align: right;\">\n",
       "      <th></th>\n",
       "      <th>user_id</th>\n",
       "      <th>creation_date</th>\n",
       "      <th>views_count</th>\n",
       "      <th>comulative_count</th>\n",
       "    </tr>\n",
       "  </thead>\n",
       "  <tbody>\n",
       "    <tr>\n",
       "      <th>0</th>\n",
       "      <td>1</td>\n",
       "      <td>2008-07-31 23:41:00</td>\n",
       "      <td>480476</td>\n",
       "      <td>480476</td>\n",
       "    </tr>\n",
       "    <tr>\n",
       "      <th>1</th>\n",
       "      <td>1</td>\n",
       "      <td>2008-07-31 23:55:38</td>\n",
       "      <td>136033</td>\n",
       "      <td>616509</td>\n",
       "    </tr>\n",
       "    <tr>\n",
       "      <th>2</th>\n",
       "      <td>1</td>\n",
       "      <td>2008-07-31 23:56:41</td>\n",
       "      <td>0</td>\n",
       "      <td>616509</td>\n",
       "    </tr>\n",
       "    <tr>\n",
       "      <th>3</th>\n",
       "      <td>1</td>\n",
       "      <td>2008-08-04 02:45:08</td>\n",
       "      <td>0</td>\n",
       "      <td>616509</td>\n",
       "    </tr>\n",
       "    <tr>\n",
       "      <th>4</th>\n",
       "      <td>1</td>\n",
       "      <td>2008-08-04 04:31:03</td>\n",
       "      <td>0</td>\n",
       "      <td>616509</td>\n",
       "    </tr>\n",
       "    <tr>\n",
       "      <th>...</th>\n",
       "      <td>...</td>\n",
       "      <td>...</td>\n",
       "      <td>...</td>\n",
       "      <td>...</td>\n",
       "    </tr>\n",
       "    <tr>\n",
       "      <th>243791</th>\n",
       "      <td>5696608</td>\n",
       "      <td>2008-12-23 16:00:37</td>\n",
       "      <td>0</td>\n",
       "      <td>2804</td>\n",
       "    </tr>\n",
       "    <tr>\n",
       "      <th>243792</th>\n",
       "      <td>5696608</td>\n",
       "      <td>2008-12-23 17:35:09</td>\n",
       "      <td>0</td>\n",
       "      <td>2804</td>\n",
       "    </tr>\n",
       "    <tr>\n",
       "      <th>243793</th>\n",
       "      <td>5696608</td>\n",
       "      <td>2008-12-24 01:02:48</td>\n",
       "      <td>0</td>\n",
       "      <td>2804</td>\n",
       "    </tr>\n",
       "    <tr>\n",
       "      <th>243794</th>\n",
       "      <td>5696608</td>\n",
       "      <td>2008-12-30 14:34:45</td>\n",
       "      <td>0</td>\n",
       "      <td>2804</td>\n",
       "    </tr>\n",
       "    <tr>\n",
       "      <th>243795</th>\n",
       "      <td>5696608</td>\n",
       "      <td>2008-12-30 16:32:12</td>\n",
       "      <td>0</td>\n",
       "      <td>2804</td>\n",
       "    </tr>\n",
       "  </tbody>\n",
       "</table>\n",
       "<p>243796 rows × 4 columns</p>\n",
       "</div>"
      ],
      "text/plain": [
       "        user_id       creation_date  views_count  comulative_count\n",
       "0             1 2008-07-31 23:41:00       480476            480476\n",
       "1             1 2008-07-31 23:55:38       136033            616509\n",
       "2             1 2008-07-31 23:56:41            0            616509\n",
       "3             1 2008-08-04 02:45:08            0            616509\n",
       "4             1 2008-08-04 04:31:03            0            616509\n",
       "...         ...                 ...          ...               ...\n",
       "243791  5696608 2008-12-23 16:00:37            0              2804\n",
       "243792  5696608 2008-12-23 17:35:09            0              2804\n",
       "243793  5696608 2008-12-24 01:02:48            0              2804\n",
       "243794  5696608 2008-12-30 14:34:45            0              2804\n",
       "243795  5696608 2008-12-30 16:32:12            0              2804\n",
       "\n",
       "[243796 rows x 4 columns]"
      ]
     },
     "execution_count": 18,
     "metadata": {},
     "output_type": "execute_result"
    }
   ],
   "source": [
    "df6"
   ]
  },
  {
   "cell_type": "markdown",
   "metadata": {
    "id": "N0kHRHvIDWK2"
   },
   "source": [
    "# Задание 5"
   ]
  },
  {
   "cell_type": "markdown",
   "metadata": {
    "id": "gBgvmPtODWK2"
   },
   "source": [
    "Найдите среднее количество постов пользователей в день за август 2008 года. Отберите данные о пользователях, которые опубликовали больше 120 постов за август. Дни без публикаций не учитывайте. \n",
    "\n",
    "Отсортируйте результат по возрастанию среднего количества постов. Значения можно не округлять."
   ]
  },
  {
   "cell_type": "markdown",
   "metadata": {
    "id": "nfzR08BODWK3"
   },
   "source": [
    "| user_id | avg_daily |\n",
    "| ------- | --------- |\n",
    "| 116     | 4.777778  |\n",
    "| 234     | 5.208333  |\n",
    "| ...     | ... |"
   ]
  },
  {
   "cell_type": "code",
   "execution_count": 19,
   "metadata": {
    "id": "YFyPNz5GDWK3"
   },
   "outputs": [],
   "source": [
    "# напишите запрос\n",
    "query = '''\n",
    "WITH gen_info AS (                                                             \n",
    "\tSELECT ui.user_id,                                                         \n",
    "    \t   p.creation_date::date,                                              \n",
    "       \t   count(p.id) AS daily_qty                                           \n",
    "\tFROM (                                                                     \n",
    "\t\tSELECT  user_id,                                                      \n",
    "    \t\t    count(id) AS post_qty                                          \n",
    "\t\tFROM stackoverflow.posts                                                \n",
    "\t\tWHERE date_trunc('month', creation_date)::date = '2008-08-01'          \n",
    "\t\tGROUP BY user_id                                                         \n",
    "\t\tHAVING count(id) > 120                                                 \n",
    "\t\tORDER BY post_qty                                                     \n",
    "\t\t) AS ui\n",
    "\tLEFT JOIN stackoverflow.posts AS p ON ui.user_id = p.user_id                  \n",
    "\tWHERE date_trunc('month', p.creation_date)::date = '2008-08-01'           \n",
    "\tGROUP BY 1,2                                                               \n",
    "\tORDER BY user_id                                                           \n",
    ")\n",
    "SELECT user_id,                                                                \n",
    "       avg(daily_qty) AS avg_daily                                             \n",
    "FROM gen_info                                                                  \n",
    "GROUP BY user_id                                                               \n",
    "ORDER BY 2                                                                     \n",
    "'''\n",
    "\n",
    "df7 = pd.read_sql_query(query, con=engine)"
   ]
  },
  {
   "cell_type": "code",
   "execution_count": 20,
   "metadata": {},
   "outputs": [
    {
     "data": {
      "text/html": [
       "<div>\n",
       "<style scoped>\n",
       "    .dataframe tbody tr th:only-of-type {\n",
       "        vertical-align: middle;\n",
       "    }\n",
       "\n",
       "    .dataframe tbody tr th {\n",
       "        vertical-align: top;\n",
       "    }\n",
       "\n",
       "    .dataframe thead th {\n",
       "        text-align: right;\n",
       "    }\n",
       "</style>\n",
       "<table border=\"1\" class=\"dataframe\">\n",
       "  <thead>\n",
       "    <tr style=\"text-align: right;\">\n",
       "      <th></th>\n",
       "      <th>user_id</th>\n",
       "      <th>avg_daily</th>\n",
       "    </tr>\n",
       "  </thead>\n",
       "  <tbody>\n",
       "    <tr>\n",
       "      <th>0</th>\n",
       "      <td>116</td>\n",
       "      <td>4.777778</td>\n",
       "    </tr>\n",
       "    <tr>\n",
       "      <th>1</th>\n",
       "      <td>234</td>\n",
       "      <td>5.208333</td>\n",
       "    </tr>\n",
       "    <tr>\n",
       "      <th>2</th>\n",
       "      <td>91</td>\n",
       "      <td>5.681818</td>\n",
       "    </tr>\n",
       "    <tr>\n",
       "      <th>3</th>\n",
       "      <td>905</td>\n",
       "      <td>7.000000</td>\n",
       "    </tr>\n",
       "    <tr>\n",
       "      <th>4</th>\n",
       "      <td>383</td>\n",
       "      <td>7.277778</td>\n",
       "    </tr>\n",
       "  </tbody>\n",
       "</table>\n",
       "</div>"
      ],
      "text/plain": [
       "   user_id  avg_daily\n",
       "0      116   4.777778\n",
       "1      234   5.208333\n",
       "2       91   5.681818\n",
       "3      905   7.000000\n",
       "4      383   7.277778"
      ]
     },
     "execution_count": 20,
     "metadata": {},
     "output_type": "execute_result"
    }
   ],
   "source": [
    "df7"
   ]
  },
  {
   "cell_type": "markdown",
   "metadata": {
    "id": "EQ0dcFH4DWK5"
   },
   "source": [
    "# Задание 6"
   ]
  },
  {
   "cell_type": "markdown",
   "metadata": {
    "id": "c7flfg_hDWK5"
   },
   "source": [
    "Сколько в среднем дней в период с 1 по 7 декабря 2008 года пользователи взаимодействовали с платформой? Для каждого пользователя отберите дни, в которые он или она опубликовали хотя бы один пост. Нужно получить одно целое число — не забудьте округлить результат. "
   ]
  },
  {
   "cell_type": "markdown",
   "metadata": {
    "id": "RC1Ibzm9DWK6"
   },
   "source": [
    "| result |\n",
    "| -----  |\n",
    "| <целое число> |"
   ]
  },
  {
   "cell_type": "code",
   "execution_count": 21,
   "metadata": {
    "id": "kZ7LXTr6DWK6"
   },
   "outputs": [],
   "source": [
    "# напишите запрос\n",
    "query = '''\n",
    "WITH gen_info AS (\n",
    "\tSELECT DISTINCT user_id,\n",
    "    \t   count(*) OVER (PARTITION BY user_id) AS day_qty\n",
    "\tFROM (\n",
    "\t\tSELECT p.user_id,                                                      \n",
    "\t   \t\t\tcreation_date::date\t                                           \n",
    "\t\tFROM stackoverflow.posts AS p                                          \n",
    "\t\tWHERE p.creation_date::date BETWEEN '2008-12-01' AND '2008-12-07'     \n",
    "\t\tGROUP BY 1, 2\n",
    "\t\tORDER BY 1\n",
    "\t\t) AS inf\n",
    ")\n",
    "SELECT round(avg(day_qty),0)::int as result\n",
    "FROM gen_info\n",
    "'''\n",
    "\n",
    "df8 = pd.read_sql_query(query, con=engine)"
   ]
  },
  {
   "cell_type": "code",
   "execution_count": 22,
   "metadata": {},
   "outputs": [
    {
     "data": {
      "text/html": [
       "<div>\n",
       "<style scoped>\n",
       "    .dataframe tbody tr th:only-of-type {\n",
       "        vertical-align: middle;\n",
       "    }\n",
       "\n",
       "    .dataframe tbody tr th {\n",
       "        vertical-align: top;\n",
       "    }\n",
       "\n",
       "    .dataframe thead th {\n",
       "        text-align: right;\n",
       "    }\n",
       "</style>\n",
       "<table border=\"1\" class=\"dataframe\">\n",
       "  <thead>\n",
       "    <tr style=\"text-align: right;\">\n",
       "      <th></th>\n",
       "      <th>result</th>\n",
       "    </tr>\n",
       "  </thead>\n",
       "  <tbody>\n",
       "    <tr>\n",
       "      <th>0</th>\n",
       "      <td>2</td>\n",
       "    </tr>\n",
       "  </tbody>\n",
       "</table>\n",
       "</div>"
      ],
      "text/plain": [
       "   result\n",
       "0       2"
      ]
     },
     "execution_count": 22,
     "metadata": {},
     "output_type": "execute_result"
    }
   ],
   "source": [
    "df8"
   ]
  },
  {
   "cell_type": "markdown",
   "metadata": {
    "id": "UJFtNNggDWK7"
   },
   "source": [
    "Проанализируйте итоговую таблицу — какие выводы можно сделать?"
   ]
  },
  {
   "cell_type": "markdown",
   "metadata": {
    "id": "LfUuYz-1DWK8"
   },
   "source": [
    "Согласно полученному результату пользователи взаимодействовали с платформой в среднем 2 дня. в целом данный показатель соответствует уровню взаимодействия с платформой в ноябре и декабре 2008 года "
   ]
  },
  {
   "cell_type": "markdown",
   "metadata": {
    "id": "wfOmqmfLDWK8"
   },
   "source": [
    "# Задание 7"
   ]
  },
  {
   "cell_type": "markdown",
   "metadata": {
    "id": "X4ARQimADWK9"
   },
   "source": [
    "Выведите историю активности каждого пользователя в таком виде: идентификатор пользователя, дата публикации поста. Отсортируйте вывод по возрастанию идентификаторов пользователей, а для каждого пользователя — по возрастанию даты публикации.\n",
    "\n",
    "Добавьте в таблицу новое поле: для каждого поста в нём будет указано название месяца предпоследней публикации пользователя относительно текущей. Если такой публикации нет, укажите `NULL`.  Python автоматически поменяет `NULL` на `None`, но дополнительно преобразовывать значения `None` вам не нужно.\n",
    "\n",
    "Посмотрите внимательно на образец таблицы: для первых двух постов предпоследней публикации нет, но, начиная с третьего поста, в новое поле входит нужный месяц. Для следующего пользователя в первые две записи поля `second_last_month` тоже войдёт `NULL`."
   ]
  },
  {
   "cell_type": "markdown",
   "metadata": {
    "id": "IGPjRP01DWK9"
   },
   "source": [
    "| user_id | creation_date | second_last_month |\n",
    "| ------- | ------------- | ----------------- |\n",
    "| 1       | 2008-07-31 23:41:00 | None |\n",
    "| 1       | 2008-07-31 23:55:38 | None |\n",
    "| 1       | 2008-07-31 23:56:41 | July |\n",
    "| 1       | 2008-08-04 02:45:08 | July |\n",
    "| 1       | 2008-08-04 04:31:03 | July |\n",
    "| 1       | 2008-08-04 08:04:42 | August |\n",
    "| ... | ... | ... |"
   ]
  },
  {
   "cell_type": "code",
   "execution_count": 23,
   "metadata": {
    "id": "HzI1vhaMDWK-"
   },
   "outputs": [],
   "source": [
    "# напишите запрос\n",
    "query = '''\n",
    "SELECT user_id,\n",
    "       creation_date,\n",
    "       CASE second_last_month\n",
    "       \t  WHEN 1 THEN 'January'\n",
    "       \t  WHEN 2 THEN 'February'\n",
    "       \t  WHEN 3 THEN 'March'\n",
    "       \t  WHEN 4 THEN 'April'\n",
    "       \t  WHEN 5 THEN 'May'\n",
    "       \t  WHEN 6 THEN 'June'\n",
    "       \t  WHEN 7 THEN 'July'\n",
    "       \t  WHEN 8 THEN 'August'\n",
    "       \t  WHEN 9 THEN 'September'\n",
    "       \t  WHEN 10 THEN 'October'\n",
    "       \t  WHEN 11 THEN 'November'\n",
    "       \t  WHEN 12 THEN 'December'\n",
    "       END AS second_last_month\n",
    "FROM (\n",
    "\tSELECT user_id,\n",
    "    \t   creation_date,\n",
    "   \t\t   lag(EXTRACT('month' FROM creation_date), 2) OVER (PARTITION BY user_id ORDER BY creation_date) AS second_last_month\n",
    "\tFROM  stackoverflow.posts      \n",
    "    ) AS inf\n",
    "'''\n",
    "\n",
    "df9 = pd.read_sql_query(query, con=engine)"
   ]
  },
  {
   "cell_type": "code",
   "execution_count": 24,
   "metadata": {},
   "outputs": [
    {
     "data": {
      "text/html": [
       "<div>\n",
       "<style scoped>\n",
       "    .dataframe tbody tr th:only-of-type {\n",
       "        vertical-align: middle;\n",
       "    }\n",
       "\n",
       "    .dataframe tbody tr th {\n",
       "        vertical-align: top;\n",
       "    }\n",
       "\n",
       "    .dataframe thead th {\n",
       "        text-align: right;\n",
       "    }\n",
       "</style>\n",
       "<table border=\"1\" class=\"dataframe\">\n",
       "  <thead>\n",
       "    <tr style=\"text-align: right;\">\n",
       "      <th></th>\n",
       "      <th>user_id</th>\n",
       "      <th>creation_date</th>\n",
       "      <th>second_last_month</th>\n",
       "    </tr>\n",
       "  </thead>\n",
       "  <tbody>\n",
       "    <tr>\n",
       "      <th>0</th>\n",
       "      <td>1</td>\n",
       "      <td>2008-07-31 23:41:00</td>\n",
       "      <td>None</td>\n",
       "    </tr>\n",
       "    <tr>\n",
       "      <th>1</th>\n",
       "      <td>1</td>\n",
       "      <td>2008-07-31 23:55:38</td>\n",
       "      <td>None</td>\n",
       "    </tr>\n",
       "    <tr>\n",
       "      <th>2</th>\n",
       "      <td>1</td>\n",
       "      <td>2008-07-31 23:56:41</td>\n",
       "      <td>July</td>\n",
       "    </tr>\n",
       "    <tr>\n",
       "      <th>3</th>\n",
       "      <td>1</td>\n",
       "      <td>2008-08-04 02:45:08</td>\n",
       "      <td>July</td>\n",
       "    </tr>\n",
       "    <tr>\n",
       "      <th>4</th>\n",
       "      <td>1</td>\n",
       "      <td>2008-08-04 04:31:03</td>\n",
       "      <td>July</td>\n",
       "    </tr>\n",
       "    <tr>\n",
       "      <th>...</th>\n",
       "      <td>...</td>\n",
       "      <td>...</td>\n",
       "      <td>...</td>\n",
       "    </tr>\n",
       "    <tr>\n",
       "      <th>243791</th>\n",
       "      <td>5696608</td>\n",
       "      <td>2008-12-23 16:00:37</td>\n",
       "      <td>December</td>\n",
       "    </tr>\n",
       "    <tr>\n",
       "      <th>243792</th>\n",
       "      <td>5696608</td>\n",
       "      <td>2008-12-23 17:35:09</td>\n",
       "      <td>December</td>\n",
       "    </tr>\n",
       "    <tr>\n",
       "      <th>243793</th>\n",
       "      <td>5696608</td>\n",
       "      <td>2008-12-24 01:02:48</td>\n",
       "      <td>December</td>\n",
       "    </tr>\n",
       "    <tr>\n",
       "      <th>243794</th>\n",
       "      <td>5696608</td>\n",
       "      <td>2008-12-30 14:34:45</td>\n",
       "      <td>December</td>\n",
       "    </tr>\n",
       "    <tr>\n",
       "      <th>243795</th>\n",
       "      <td>5696608</td>\n",
       "      <td>2008-12-30 16:32:12</td>\n",
       "      <td>December</td>\n",
       "    </tr>\n",
       "  </tbody>\n",
       "</table>\n",
       "<p>243796 rows × 3 columns</p>\n",
       "</div>"
      ],
      "text/plain": [
       "        user_id       creation_date second_last_month\n",
       "0             1 2008-07-31 23:41:00              None\n",
       "1             1 2008-07-31 23:55:38              None\n",
       "2             1 2008-07-31 23:56:41              July\n",
       "3             1 2008-08-04 02:45:08              July\n",
       "4             1 2008-08-04 04:31:03              July\n",
       "...         ...                 ...               ...\n",
       "243791  5696608 2008-12-23 16:00:37          December\n",
       "243792  5696608 2008-12-23 17:35:09          December\n",
       "243793  5696608 2008-12-24 01:02:48          December\n",
       "243794  5696608 2008-12-30 14:34:45          December\n",
       "243795  5696608 2008-12-30 16:32:12          December\n",
       "\n",
       "[243796 rows x 3 columns]"
      ]
     },
     "execution_count": 24,
     "metadata": {},
     "output_type": "execute_result"
    }
   ],
   "source": [
    "df9"
   ]
  },
  {
   "cell_type": "markdown",
   "metadata": {
    "id": "tf9qq2yzDWK_"
   },
   "source": [
    "# Задание 8"
   ]
  },
  {
   "cell_type": "markdown",
   "metadata": {
    "id": "gfwLVXBYDWLA"
   },
   "source": [
    "Рассчитайте аналог Retention Rate по месяцам для пользователей StackOverflow. Объедините пользователей в когорты по месяцу их первого поста. Возвращение определяйте по наличию поста в текущем месяце. "
   ]
  },
  {
   "cell_type": "markdown",
   "metadata": {
    "id": "kN2ic39WlKpl"
   },
   "source": [
    "| cohort_dt | session_date | users_cnt | cohort_users_cnt | retention_rate |\n",
    "| --- | --- | --- | --- | --- |\n",
    "| 2008-07-01 00:00:00 | 2008-07-01 00:00:00 | 3 | 3 | 100 |\n",
    "| 2008-07-01 00:00:00 | 2008-08-01 00:00:00 | 2 | 3 | 66,67 |\n",
    "| 2008-07-01 00:00:00 | 2008-09-01 00:00:00 | 1 | 3 | 33,33 |\n",
    "| 2008-07-01 00:00:00 | 2008-10-01 00:00:00 | 2 | 3 | 66,67 |\n",
    "| 2008-07-01 00:00:00 | 2008-11-01 00:00:00 | 1 | 3 | 33,33 |\n",
    "| 2008-07-01 00:00:00 | 2008-12-01 00:00:00 | 2 | 3 | 66,67 |\n",
    "| 2008-08-01 00:00:00 | 2008-08-01 00:00:00 | 2151 | 2151 | 100 |\n",
    "| ... | ... | ... | ... | ... |"
   ]
  },
  {
   "cell_type": "code",
   "execution_count": 25,
   "metadata": {
    "id": "LUgFmwmTDWLB"
   },
   "outputs": [],
   "source": [
    "# напишите запрос\n",
    "query = '''\n",
    "WITH profiles AS (\n",
    "SELECT user_id,\n",
    "       date_trunc('month', dt)::date AS cohort_dt,\n",
    "       count(*) OVER (PARTITION BY date_trunc('month', dt)::date) AS cohort_user_qty\n",
    "FROM (\n",
    "\tSELECT  user_id,\n",
    "    \t    min(creation_date) AS dt\n",
    "    FROM stackoverflow.posts   \n",
    "\tGROUP BY 1\n",
    "\tORDER BY 2\n",
    "\t) AS inf\n",
    "),\n",
    "sessions AS (\n",
    "SELECT user_id,\n",
    "       date_trunc('month',creation_date)::date AS session_date\n",
    "FROM   stackoverflow.posts     \n",
    "GROUP BY 1, 2\n",
    ")\n",
    "SELECT p.cohort_dt,\n",
    "       s.session_date,\n",
    "       count(p.user_id) AS user_qty,\n",
    "       p.cohort_user_qty,\n",
    "       round(count(p.user_id) * 100.0 / cohort_user_qty, 2) AS retention_rate\n",
    "FROM profiles AS p \n",
    "JOIN sessions AS s ON p.user_id = s.user_id\n",
    "GROUP BY 1, 2, 4\n",
    "'''\n",
    "\n",
    "df10 = pd.read_sql_query(query, con=engine)"
   ]
  },
  {
   "cell_type": "code",
   "execution_count": 26,
   "metadata": {},
   "outputs": [
    {
     "data": {
      "text/html": [
       "<div>\n",
       "<style scoped>\n",
       "    .dataframe tbody tr th:only-of-type {\n",
       "        vertical-align: middle;\n",
       "    }\n",
       "\n",
       "    .dataframe tbody tr th {\n",
       "        vertical-align: top;\n",
       "    }\n",
       "\n",
       "    .dataframe thead th {\n",
       "        text-align: right;\n",
       "    }\n",
       "</style>\n",
       "<table border=\"1\" class=\"dataframe\">\n",
       "  <thead>\n",
       "    <tr style=\"text-align: right;\">\n",
       "      <th></th>\n",
       "      <th>cohort_dt</th>\n",
       "      <th>session_date</th>\n",
       "      <th>user_qty</th>\n",
       "      <th>cohort_user_qty</th>\n",
       "      <th>retention_rate</th>\n",
       "    </tr>\n",
       "  </thead>\n",
       "  <tbody>\n",
       "    <tr>\n",
       "      <th>0</th>\n",
       "      <td>2008-07-01</td>\n",
       "      <td>2008-07-01</td>\n",
       "      <td>3</td>\n",
       "      <td>3</td>\n",
       "      <td>100.00</td>\n",
       "    </tr>\n",
       "    <tr>\n",
       "      <th>1</th>\n",
       "      <td>2008-07-01</td>\n",
       "      <td>2008-08-01</td>\n",
       "      <td>2</td>\n",
       "      <td>3</td>\n",
       "      <td>66.67</td>\n",
       "    </tr>\n",
       "    <tr>\n",
       "      <th>2</th>\n",
       "      <td>2008-07-01</td>\n",
       "      <td>2008-09-01</td>\n",
       "      <td>1</td>\n",
       "      <td>3</td>\n",
       "      <td>33.33</td>\n",
       "    </tr>\n",
       "    <tr>\n",
       "      <th>3</th>\n",
       "      <td>2008-07-01</td>\n",
       "      <td>2008-10-01</td>\n",
       "      <td>2</td>\n",
       "      <td>3</td>\n",
       "      <td>66.67</td>\n",
       "    </tr>\n",
       "    <tr>\n",
       "      <th>4</th>\n",
       "      <td>2008-07-01</td>\n",
       "      <td>2008-11-01</td>\n",
       "      <td>1</td>\n",
       "      <td>3</td>\n",
       "      <td>33.33</td>\n",
       "    </tr>\n",
       "    <tr>\n",
       "      <th>5</th>\n",
       "      <td>2008-07-01</td>\n",
       "      <td>2008-12-01</td>\n",
       "      <td>2</td>\n",
       "      <td>3</td>\n",
       "      <td>66.67</td>\n",
       "    </tr>\n",
       "    <tr>\n",
       "      <th>6</th>\n",
       "      <td>2008-08-01</td>\n",
       "      <td>2008-08-01</td>\n",
       "      <td>2151</td>\n",
       "      <td>2151</td>\n",
       "      <td>100.00</td>\n",
       "    </tr>\n",
       "    <tr>\n",
       "      <th>7</th>\n",
       "      <td>2008-08-01</td>\n",
       "      <td>2008-09-01</td>\n",
       "      <td>1571</td>\n",
       "      <td>2151</td>\n",
       "      <td>73.04</td>\n",
       "    </tr>\n",
       "    <tr>\n",
       "      <th>8</th>\n",
       "      <td>2008-08-01</td>\n",
       "      <td>2008-10-01</td>\n",
       "      <td>1275</td>\n",
       "      <td>2151</td>\n",
       "      <td>59.27</td>\n",
       "    </tr>\n",
       "    <tr>\n",
       "      <th>9</th>\n",
       "      <td>2008-08-01</td>\n",
       "      <td>2008-11-01</td>\n",
       "      <td>1050</td>\n",
       "      <td>2151</td>\n",
       "      <td>48.81</td>\n",
       "    </tr>\n",
       "    <tr>\n",
       "      <th>10</th>\n",
       "      <td>2008-08-01</td>\n",
       "      <td>2008-12-01</td>\n",
       "      <td>894</td>\n",
       "      <td>2151</td>\n",
       "      <td>41.56</td>\n",
       "    </tr>\n",
       "    <tr>\n",
       "      <th>11</th>\n",
       "      <td>2008-09-01</td>\n",
       "      <td>2008-09-01</td>\n",
       "      <td>7678</td>\n",
       "      <td>7678</td>\n",
       "      <td>100.00</td>\n",
       "    </tr>\n",
       "    <tr>\n",
       "      <th>12</th>\n",
       "      <td>2008-09-01</td>\n",
       "      <td>2008-10-01</td>\n",
       "      <td>4132</td>\n",
       "      <td>7678</td>\n",
       "      <td>53.82</td>\n",
       "    </tr>\n",
       "    <tr>\n",
       "      <th>13</th>\n",
       "      <td>2008-09-01</td>\n",
       "      <td>2008-11-01</td>\n",
       "      <td>2966</td>\n",
       "      <td>7678</td>\n",
       "      <td>38.63</td>\n",
       "    </tr>\n",
       "    <tr>\n",
       "      <th>14</th>\n",
       "      <td>2008-09-01</td>\n",
       "      <td>2008-12-01</td>\n",
       "      <td>2500</td>\n",
       "      <td>7678</td>\n",
       "      <td>32.56</td>\n",
       "    </tr>\n",
       "    <tr>\n",
       "      <th>15</th>\n",
       "      <td>2008-10-01</td>\n",
       "      <td>2008-10-01</td>\n",
       "      <td>3629</td>\n",
       "      <td>3629</td>\n",
       "      <td>100.00</td>\n",
       "    </tr>\n",
       "    <tr>\n",
       "      <th>16</th>\n",
       "      <td>2008-10-01</td>\n",
       "      <td>2008-11-01</td>\n",
       "      <td>1640</td>\n",
       "      <td>3629</td>\n",
       "      <td>45.19</td>\n",
       "    </tr>\n",
       "    <tr>\n",
       "      <th>17</th>\n",
       "      <td>2008-10-01</td>\n",
       "      <td>2008-12-01</td>\n",
       "      <td>1221</td>\n",
       "      <td>3629</td>\n",
       "      <td>33.65</td>\n",
       "    </tr>\n",
       "    <tr>\n",
       "      <th>18</th>\n",
       "      <td>2008-11-01</td>\n",
       "      <td>2008-11-01</td>\n",
       "      <td>2852</td>\n",
       "      <td>2852</td>\n",
       "      <td>100.00</td>\n",
       "    </tr>\n",
       "    <tr>\n",
       "      <th>19</th>\n",
       "      <td>2008-11-01</td>\n",
       "      <td>2008-12-01</td>\n",
       "      <td>1151</td>\n",
       "      <td>2852</td>\n",
       "      <td>40.36</td>\n",
       "    </tr>\n",
       "    <tr>\n",
       "      <th>20</th>\n",
       "      <td>2008-12-01</td>\n",
       "      <td>2008-12-01</td>\n",
       "      <td>2536</td>\n",
       "      <td>2536</td>\n",
       "      <td>100.00</td>\n",
       "    </tr>\n",
       "  </tbody>\n",
       "</table>\n",
       "</div>"
      ],
      "text/plain": [
       "     cohort_dt session_date  user_qty  cohort_user_qty  retention_rate\n",
       "0   2008-07-01   2008-07-01         3                3          100.00\n",
       "1   2008-07-01   2008-08-01         2                3           66.67\n",
       "2   2008-07-01   2008-09-01         1                3           33.33\n",
       "3   2008-07-01   2008-10-01         2                3           66.67\n",
       "4   2008-07-01   2008-11-01         1                3           33.33\n",
       "5   2008-07-01   2008-12-01         2                3           66.67\n",
       "6   2008-08-01   2008-08-01      2151             2151          100.00\n",
       "7   2008-08-01   2008-09-01      1571             2151           73.04\n",
       "8   2008-08-01   2008-10-01      1275             2151           59.27\n",
       "9   2008-08-01   2008-11-01      1050             2151           48.81\n",
       "10  2008-08-01   2008-12-01       894             2151           41.56\n",
       "11  2008-09-01   2008-09-01      7678             7678          100.00\n",
       "12  2008-09-01   2008-10-01      4132             7678           53.82\n",
       "13  2008-09-01   2008-11-01      2966             7678           38.63\n",
       "14  2008-09-01   2008-12-01      2500             7678           32.56\n",
       "15  2008-10-01   2008-10-01      3629             3629          100.00\n",
       "16  2008-10-01   2008-11-01      1640             3629           45.19\n",
       "17  2008-10-01   2008-12-01      1221             3629           33.65\n",
       "18  2008-11-01   2008-11-01      2852             2852          100.00\n",
       "19  2008-11-01   2008-12-01      1151             2852           40.36\n",
       "20  2008-12-01   2008-12-01      2536             2536          100.00"
      ]
     },
     "execution_count": 26,
     "metadata": {},
     "output_type": "execute_result"
    }
   ],
   "source": [
    "df10"
   ]
  },
  {
   "cell_type": "markdown",
   "metadata": {
    "id": "_msBtnb2DWLC"
   },
   "source": [
    "Постройте тепловую карту Retention Rate. Какие аномалии или другие необычные явления удалось выявить? Сформулируйте гипотезы о возможных причинах."
   ]
  },
  {
   "cell_type": "code",
   "execution_count": 27,
   "metadata": {},
   "outputs": [
    {
     "data": {
      "text/html": [
       "<div>\n",
       "<style scoped>\n",
       "    .dataframe tbody tr th:only-of-type {\n",
       "        vertical-align: middle;\n",
       "    }\n",
       "\n",
       "    .dataframe tbody tr th {\n",
       "        vertical-align: top;\n",
       "    }\n",
       "\n",
       "    .dataframe thead th {\n",
       "        text-align: right;\n",
       "    }\n",
       "</style>\n",
       "<table border=\"1\" class=\"dataframe\">\n",
       "  <thead>\n",
       "    <tr style=\"text-align: right;\">\n",
       "      <th>session_date</th>\n",
       "      <th>2008-07-01</th>\n",
       "      <th>2008-08-01</th>\n",
       "      <th>2008-09-01</th>\n",
       "      <th>2008-10-01</th>\n",
       "      <th>2008-11-01</th>\n",
       "      <th>2008-12-01</th>\n",
       "    </tr>\n",
       "    <tr>\n",
       "      <th>cohort_dt</th>\n",
       "      <th></th>\n",
       "      <th></th>\n",
       "      <th></th>\n",
       "      <th></th>\n",
       "      <th></th>\n",
       "      <th></th>\n",
       "    </tr>\n",
       "  </thead>\n",
       "  <tbody>\n",
       "    <tr>\n",
       "      <th>2008-07-01</th>\n",
       "      <td>100.0</td>\n",
       "      <td>66.67</td>\n",
       "      <td>33.33</td>\n",
       "      <td>66.67</td>\n",
       "      <td>33.33</td>\n",
       "      <td>66.67</td>\n",
       "    </tr>\n",
       "    <tr>\n",
       "      <th>2008-08-01</th>\n",
       "      <td>NaN</td>\n",
       "      <td>100.00</td>\n",
       "      <td>73.04</td>\n",
       "      <td>59.27</td>\n",
       "      <td>48.81</td>\n",
       "      <td>41.56</td>\n",
       "    </tr>\n",
       "    <tr>\n",
       "      <th>2008-09-01</th>\n",
       "      <td>NaN</td>\n",
       "      <td>NaN</td>\n",
       "      <td>100.00</td>\n",
       "      <td>53.82</td>\n",
       "      <td>38.63</td>\n",
       "      <td>32.56</td>\n",
       "    </tr>\n",
       "    <tr>\n",
       "      <th>2008-10-01</th>\n",
       "      <td>NaN</td>\n",
       "      <td>NaN</td>\n",
       "      <td>NaN</td>\n",
       "      <td>100.00</td>\n",
       "      <td>45.19</td>\n",
       "      <td>33.65</td>\n",
       "    </tr>\n",
       "    <tr>\n",
       "      <th>2008-11-01</th>\n",
       "      <td>NaN</td>\n",
       "      <td>NaN</td>\n",
       "      <td>NaN</td>\n",
       "      <td>NaN</td>\n",
       "      <td>100.00</td>\n",
       "      <td>40.36</td>\n",
       "    </tr>\n",
       "    <tr>\n",
       "      <th>2008-12-01</th>\n",
       "      <td>NaN</td>\n",
       "      <td>NaN</td>\n",
       "      <td>NaN</td>\n",
       "      <td>NaN</td>\n",
       "      <td>NaN</td>\n",
       "      <td>100.00</td>\n",
       "    </tr>\n",
       "  </tbody>\n",
       "</table>\n",
       "</div>"
      ],
      "text/plain": [
       "session_date  2008-07-01  2008-08-01  2008-09-01  2008-10-01  2008-11-01  \\\n",
       "cohort_dt                                                                  \n",
       "2008-07-01         100.0       66.67       33.33       66.67       33.33   \n",
       "2008-08-01           NaN      100.00       73.04       59.27       48.81   \n",
       "2008-09-01           NaN         NaN      100.00       53.82       38.63   \n",
       "2008-10-01           NaN         NaN         NaN      100.00       45.19   \n",
       "2008-11-01           NaN         NaN         NaN         NaN      100.00   \n",
       "2008-12-01           NaN         NaN         NaN         NaN         NaN   \n",
       "\n",
       "session_date  2008-12-01  \n",
       "cohort_dt                 \n",
       "2008-07-01         66.67  \n",
       "2008-08-01         41.56  \n",
       "2008-09-01         32.56  \n",
       "2008-10-01         33.65  \n",
       "2008-11-01         40.36  \n",
       "2008-12-01        100.00  "
      ]
     },
     "execution_count": 27,
     "metadata": {},
     "output_type": "execute_result"
    }
   ],
   "source": [
    "pv = pd.pivot_table(df10, index='cohort_dt', columns='session_date', values='retention_rate', aggfunc='mean')\n",
    "pv"
   ]
  },
  {
   "cell_type": "code",
   "execution_count": 28,
   "metadata": {
    "id": "qAEJc8H1DWLC"
   },
   "outputs": [
    {
     "data": {
      "image/png": "[encoded data removed]",
      "text/plain": [
       "<Figure size 432x432 with 2 Axes>"
      ]
     },
     "metadata": {
      "needs_background": "light"
     },
     "output_type": "display_data"
    }
   ],
   "source": [
    "# строим тепловую карту\n",
    "fig, ax = plt.subplots(figsize=(6,6))\n",
    "im = ax.imshow(pv, cmap='autumn')\n",
    "# создаем цветовую легенду \n",
    "cbar = ax.figure.colorbar(im, ax=ax)\n",
    "cbar.ax.set_ylabel('процент удержания', rotation=-90, va=\"bottom\")\n",
    "# создаем подписи данных\n",
    "ax.set_xticks(np.arange(len(pv.columns)), labels=pv.columns)\n",
    "ax.set_yticks(np.arange(len(pv.index)), labels=pv.index)\n",
    "\n",
    "# поворачиваем нижние подписи на 45 градусо для удобства\n",
    "plt.setp(ax.get_xticklabels(), rotation=45, ha=\"right\",\n",
    "         rotation_mode=\"anchor\")\n",
    "# создаем подписи осей\n",
    "plt.xlabel('дата сессии')\n",
    "plt.ylabel('дата когорты')\n",
    "#создаем заголовок карты\n",
    "plt.title('Тепловая карта удержания пользователей')\n",
    "plt.show()"
   ]
  },
  {
   "cell_type": "markdown",
   "metadata": {
    "id": "EgOfIsI4DWLC"
   },
   "source": [
    "На тепловой карте видна аномалия в когорте от июля 2008 - вместо снижения кол-ва пользователей со временем, мы наблюдаем волнобразное изменение: кол-во пользователей то меньше, то больше.\n",
    "Причины:\n",
    "1. при маленьком кол-ве пользователей в когорте любое изменение приводит к очень большим колебаниям"
   ]
  },
  {
   "cell_type": "code",
   "execution_count": 29,
   "metadata": {},
   "outputs": [
    {
     "data": {
      "image/png": "[encoded data removed]",
      "text/plain": [
       "<Figure size 432x288 with 2 Axes>"
      ]
     },
     "metadata": {
      "needs_background": "light"
     },
     "output_type": "display_data"
    }
   ],
   "source": [
    "import seaborn as sns\n",
    "sns.heatmap(pv, # датафрейм с данными\n",
    "            annot=True, # добавляем подписи\n",
    "            fmt='') # задаём исходный формат\n",
    "plt.xlabel('дата сессии')\n",
    "plt.ylabel('дата когорты')\n",
    "plt.title('Тепловая карта') # название графика\n",
    "plt.show() "
   ]
  },
  {
   "cell_type": "markdown",
   "metadata": {
    "id": "1k7oPWt5DWLK"
   },
   "source": [
    "# Задание 9\n"
   ]
  },
  {
   "cell_type": "markdown",
   "metadata": {
    "id": "ALsYVSyRDWLM"
   },
   "source": [
    "На сколько процентов менялось количество постов ежемесячно с 1 сентября по 31 декабря 2008 года? Отобразите таблицу со следующими полями:\n",
    "\n",
    "- номер месяца;\n",
    "- количество постов за месяц;\n",
    "- процент, который показывает, насколько изменилось количество постов в текущем месяце по сравнению с предыдущим.\n",
    "\n",
    "Если постов стало меньше, значение процента должно быть отрицательным, если больше — положительным. Округлите значение процента до двух знаков после запятой.\n",
    "\n",
    "Напомним, что при делении одного целого числа на другое в PostgreSQL в результате получится целое число, округлённое до ближайшего целого вниз. Чтобы этого избежать, переведите делимое в тип `numeric`."
   ]
  },
  {
   "cell_type": "markdown",
   "metadata": {
    "id": "u4E2zF8DDWLM"
   },
   "source": [
    "| creation_month | posts_count | percentage |\n",
    "| -------------- | ----------- | ---------- |\n",
    "| 9 | 70731 | Nan |\n",
    "| 10 | 63102 | -10.33 |\n",
    "| ... | ... | ... |"
   ]
  },
  {
   "cell_type": "code",
   "execution_count": 30,
   "metadata": {
    "id": "Mb5pShStDWLN"
   },
   "outputs": [],
   "source": [
    "# напишите запрос\n",
    "query = '''\n",
    "WITH cur_inf AS (\n",
    "SELECT DISTINCT EXTRACT('month' FROM creation_date)::int AS creation_month,\n",
    "       count(id) OVER (PARTITION BY EXTRACT('month' FROM creation_date)) AS posts_count \n",
    "FROM  stackoverflow.posts \n",
    "WHERE EXTRACT('month' FROM creation_date) IN (9,10,11,12)\n",
    "ORDER BY creation_month \n",
    "      )\n",
    "SELECT *,\n",
    "       round((posts_count - lag(posts_count) OVER ()) * 100.0 / lag(posts_count) OVER () , 2)  AS percentage\n",
    "FROM cur_inf\n",
    "\n",
    "'''\n",
    "\n",
    "df11 = pd.read_sql_query(query, con=engine)"
   ]
  },
  {
   "cell_type": "code",
   "execution_count": 31,
   "metadata": {},
   "outputs": [
    {
     "data": {
      "text/html": [
       "<div>\n",
       "<style scoped>\n",
       "    .dataframe tbody tr th:only-of-type {\n",
       "        vertical-align: middle;\n",
       "    }\n",
       "\n",
       "    .dataframe tbody tr th {\n",
       "        vertical-align: top;\n",
       "    }\n",
       "\n",
       "    .dataframe thead th {\n",
       "        text-align: right;\n",
       "    }\n",
       "</style>\n",
       "<table border=\"1\" class=\"dataframe\">\n",
       "  <thead>\n",
       "    <tr style=\"text-align: right;\">\n",
       "      <th></th>\n",
       "      <th>creation_month</th>\n",
       "      <th>posts_count</th>\n",
       "      <th>percentage</th>\n",
       "    </tr>\n",
       "  </thead>\n",
       "  <tbody>\n",
       "    <tr>\n",
       "      <th>0</th>\n",
       "      <td>9</td>\n",
       "      <td>70371</td>\n",
       "      <td>NaN</td>\n",
       "    </tr>\n",
       "    <tr>\n",
       "      <th>1</th>\n",
       "      <td>10</td>\n",
       "      <td>63102</td>\n",
       "      <td>-10.33</td>\n",
       "    </tr>\n",
       "    <tr>\n",
       "      <th>2</th>\n",
       "      <td>11</td>\n",
       "      <td>46975</td>\n",
       "      <td>-25.56</td>\n",
       "    </tr>\n",
       "    <tr>\n",
       "      <th>3</th>\n",
       "      <td>12</td>\n",
       "      <td>44592</td>\n",
       "      <td>-5.07</td>\n",
       "    </tr>\n",
       "  </tbody>\n",
       "</table>\n",
       "</div>"
      ],
      "text/plain": [
       "   creation_month  posts_count  percentage\n",
       "0               9        70371         NaN\n",
       "1              10        63102      -10.33\n",
       "2              11        46975      -25.56\n",
       "3              12        44592       -5.07"
      ]
     },
     "execution_count": 31,
     "metadata": {},
     "output_type": "execute_result"
    }
   ],
   "source": [
    "df11"
   ]
  },
  {
   "cell_type": "markdown",
   "metadata": {
    "id": "9NQE2y_MDWLP"
   },
   "source": [
    "Постройте круговую диаграмму с количеством постов по месяцам."
   ]
  },
  {
   "cell_type": "code",
   "execution_count": 32,
   "metadata": {
    "id": "377ABjiVDWLP"
   },
   "outputs": [
    {
     "data": {
      "image/png": "[encoded data removed]",
      "text/plain": [
       "<Figure size 432x432 with 1 Axes>"
      ]
     },
     "metadata": {},
     "output_type": "display_data"
    }
   ],
   "source": [
    "# постройте круговую диаграмму с количеством постов по месяцам\n",
    "fig1, ax = plt.subplots(figsize=(6,6)) # устанавливаем размер диаграммы\n",
    "wedges, texts, autotexts =ax.pie(df11['posts_count'], labels=df11['creation_month'], autopct='%1.2f%%', textprops=dict(color=\"w\")) # диаграмма с подписями белого цвета\n",
    "plt.setp(autotexts, size=12, weight=\"bold\")   # устанавливаем размер подписей данных на диаграмме\n",
    "# легеду диаграммы\n",
    "ax.legend(wedges, df11['creation_month'],\n",
    "          title='месяцы публикации постов',\n",
    "          loc='upper left',\n",
    "          bbox_to_anchor=(1, 0, 0.5, 1))\n",
    "plt.title('Диаграмма распределения кол-ва постов по месяцам')  # заголовок диаграммы\n",
    "plt.show()"
   ]
  },
  {
   "cell_type": "markdown",
   "metadata": {
    "id": "uw7qMtafDWLP"
   },
   "source": [
    "# Задание 10"
   ]
  },
  {
   "cell_type": "markdown",
   "metadata": {
    "id": "oRBpWKx3DWLQ"
   },
   "source": [
    "Выгрузите данные активности пользователя, который опубликовал больше всего постов за всё время. Выведите данные за октябрь 2008 года в таком виде:\n",
    "\n",
    "- номер недели;\n",
    "- дата и время последнего поста, опубликованного на этой неделе."
   ]
  },
  {
   "cell_type": "markdown",
   "metadata": {
    "id": "XjAWSn_3DWLQ"
   },
   "source": [
    "| week_creation | creation_date |\n",
    "| ------------- | ------------- |\n",
    "| 40 | 2008-10-05 09:00:58 |\n",
    "| 41 | 2008-10-12 21:22:23 |\n",
    "| ... | ... |"
   ]
  },
  {
   "cell_type": "code",
   "execution_count": 33,
   "metadata": {
    "id": "r5F5fSkwDWLQ"
   },
   "outputs": [],
   "source": [
    "# напишите запрос\n",
    "query = '''\n",
    "WITH champ AS (\n",
    "SELECT DISTINCT first_value(user_id) OVER() AS post_qty_champ\n",
    "FROM (\n",
    "SELECT DISTINCT user_id,\n",
    "\t   count(id) OVER (PARTITION BY user_id) AS posts_qty\n",
    "FROM stackoverflow.posts\t\n",
    "ORDER BY 2 DESC \n",
    "     ) AS inf\n",
    ")\n",
    "SELECT DISTINCT extract('week' FROM creation_date)::int AS week_creation,\n",
    "       max(creation_date) OVER (PARTITION BY extract('week' FROM creation_date)) AS creation_date \n",
    "FROM stackoverflow.posts p\n",
    "JOIN champ AS ch ON p.user_id = ch.post_qty_champ\n",
    "WHERE date_trunc('month', creation_date)::date = '2008-10-01'\n",
    "ORDER BY 1\n",
    "'''\n",
    "\n",
    "df12 = pd.read_sql_query(query, con=engine)"
   ]
  },
  {
   "cell_type": "code",
   "execution_count": 34,
   "metadata": {},
   "outputs": [
    {
     "data": {
      "text/html": [
       "<div>\n",
       "<style scoped>\n",
       "    .dataframe tbody tr th:only-of-type {\n",
       "        vertical-align: middle;\n",
       "    }\n",
       "\n",
       "    .dataframe tbody tr th {\n",
       "        vertical-align: top;\n",
       "    }\n",
       "\n",
       "    .dataframe thead th {\n",
       "        text-align: right;\n",
       "    }\n",
       "</style>\n",
       "<table border=\"1\" class=\"dataframe\">\n",
       "  <thead>\n",
       "    <tr style=\"text-align: right;\">\n",
       "      <th></th>\n",
       "      <th>week_creation</th>\n",
       "      <th>creation_date</th>\n",
       "    </tr>\n",
       "  </thead>\n",
       "  <tbody>\n",
       "    <tr>\n",
       "      <th>0</th>\n",
       "      <td>40</td>\n",
       "      <td>2008-10-05 09:00:58</td>\n",
       "    </tr>\n",
       "    <tr>\n",
       "      <th>1</th>\n",
       "      <td>41</td>\n",
       "      <td>2008-10-12 21:22:23</td>\n",
       "    </tr>\n",
       "    <tr>\n",
       "      <th>2</th>\n",
       "      <td>42</td>\n",
       "      <td>2008-10-19 06:49:30</td>\n",
       "    </tr>\n",
       "    <tr>\n",
       "      <th>3</th>\n",
       "      <td>43</td>\n",
       "      <td>2008-10-26 21:44:36</td>\n",
       "    </tr>\n",
       "    <tr>\n",
       "      <th>4</th>\n",
       "      <td>44</td>\n",
       "      <td>2008-10-31 22:16:01</td>\n",
       "    </tr>\n",
       "  </tbody>\n",
       "</table>\n",
       "</div>"
      ],
      "text/plain": [
       "   week_creation       creation_date\n",
       "0             40 2008-10-05 09:00:58\n",
       "1             41 2008-10-12 21:22:23\n",
       "2             42 2008-10-19 06:49:30\n",
       "3             43 2008-10-26 21:44:36\n",
       "4             44 2008-10-31 22:16:01"
      ]
     },
     "execution_count": 34,
     "metadata": {},
     "output_type": "execute_result"
    }
   ],
   "source": [
    "df12"
   ]
  },
  {
   "cell_type": "code",
   "execution_count": null,
   "metadata": {},
   "outputs": [],
   "source": []
  }
 ],
 "metadata": {
  "ExecuteTimeLog": [
   {
    "duration": 931,
    "start_time": "2023-03-14T21:21:23.156Z"
   },
   {
    "duration": 4,
    "start_time": "2023-03-14T21:21:24.090Z"
   },
   {
    "duration": 4906,
    "start_time": "2023-03-14T21:21:24.096Z"
   },
   {
    "duration": 239,
    "start_time": "2023-03-14T21:21:29.004Z"
   },
   {
    "duration": 15,
    "start_time": "2023-03-14T21:21:29.245Z"
   },
   {
    "duration": 250,
    "start_time": "2023-03-14T21:21:29.262Z"
   },
   {
    "duration": 8,
    "start_time": "2023-03-14T21:21:29.514Z"
   },
   {
    "duration": 291,
    "start_time": "2023-03-14T21:21:29.524Z"
   },
   {
    "duration": 11,
    "start_time": "2023-03-14T21:21:29.817Z"
   },
   {
    "duration": 291,
    "start_time": "2023-03-14T21:21:29.831Z"
   },
   {
    "duration": 8,
    "start_time": "2023-03-14T21:21:30.124Z"
   },
   {
    "duration": 152,
    "start_time": "2023-03-14T21:21:30.133Z"
   },
   {
    "duration": 6,
    "start_time": "2023-03-14T21:21:30.287Z"
   },
   {
    "duration": 116,
    "start_time": "2023-03-14T21:21:30.295Z"
   },
   {
    "duration": 8,
    "start_time": "2023-03-14T21:21:30.412Z"
   },
   {
    "duration": 1275,
    "start_time": "2023-03-14T21:21:30.421Z"
   },
   {
    "duration": 13,
    "start_time": "2023-03-14T21:21:31.698Z"
   },
   {
    "duration": 117,
    "start_time": "2023-03-14T21:21:31.712Z"
   },
   {
    "duration": 9,
    "start_time": "2023-03-14T21:21:31.831Z"
   },
   {
    "duration": 82,
    "start_time": "2023-03-14T21:21:31.842Z"
   },
   {
    "duration": 7,
    "start_time": "2023-03-14T21:21:31.927Z"
   },
   {
    "duration": 1164,
    "start_time": "2023-03-14T21:21:31.936Z"
   },
   {
    "duration": 11,
    "start_time": "2023-03-14T21:21:33.101Z"
   },
   {
    "duration": 888,
    "start_time": "2023-03-14T21:21:33.113Z"
   },
   {
    "duration": 12,
    "start_time": "2023-03-14T21:21:34.003Z"
   },
   {
    "duration": 26,
    "start_time": "2023-03-14T21:21:34.017Z"
   },
   {
    "duration": 293,
    "start_time": "2023-03-14T21:21:34.045Z"
   },
   {
    "duration": 0,
    "start_time": "2023-03-14T21:21:34.339Z"
   },
   {
    "duration": 0,
    "start_time": "2023-03-14T21:21:34.341Z"
   },
   {
    "duration": 0,
    "start_time": "2023-03-14T21:21:34.342Z"
   },
   {
    "duration": 0,
    "start_time": "2023-03-14T21:21:34.343Z"
   },
   {
    "duration": 0,
    "start_time": "2023-03-14T21:21:34.344Z"
   },
   {
    "duration": 55,
    "start_time": "2023-03-14T21:24:51.079Z"
   },
   {
    "duration": 6,
    "start_time": "2023-03-14T21:24:52.142Z"
   },
   {
    "duration": 867,
    "start_time": "2023-03-14T21:25:51.998Z"
   },
   {
    "duration": 884,
    "start_time": "2023-03-14T21:26:08.520Z"
   },
   {
    "duration": 13,
    "start_time": "2023-03-14T21:26:15.205Z"
   },
   {
    "duration": 236,
    "start_time": "2023-03-14T21:26:40.356Z"
   },
   {
    "duration": 9,
    "start_time": "2023-03-14T21:26:41.575Z"
   },
   {
    "duration": 138,
    "start_time": "2023-03-14T21:26:56.063Z"
   },
   {
    "duration": 511,
    "start_time": "2023-03-14T21:27:00.343Z"
   },
   {
    "duration": 9,
    "start_time": "2023-03-14T21:27:00.897Z"
   },
   {
    "duration": 117,
    "start_time": "2023-03-14T21:27:02.690Z"
   },
   {
    "duration": 300,
    "start_time": "2023-03-14T21:27:33.589Z"
   },
   {
    "duration": 9,
    "start_time": "2023-03-14T21:27:34.389Z"
   },
   {
    "duration": 309,
    "start_time": "2023-03-14T21:27:39.266Z"
   },
   {
    "duration": 7,
    "start_time": "2023-03-14T21:27:40.167Z"
   },
   {
    "duration": 311,
    "start_time": "2023-03-14T21:27:40.926Z"
   },
   {
    "duration": 7,
    "start_time": "2023-03-14T21:27:41.535Z"
   },
   {
    "duration": 22,
    "start_time": "2023-03-14T21:28:52.951Z"
   },
   {
    "duration": 866,
    "start_time": "2023-03-14T21:28:55.055Z"
   },
   {
    "duration": 23,
    "start_time": "2023-03-14T21:28:57.934Z"
   },
   {
    "duration": 203,
    "start_time": "2023-03-14T21:28:59.544Z"
   },
   {
    "duration": 711,
    "start_time": "2023-03-14T21:57:21.264Z"
   },
   {
    "duration": 4,
    "start_time": "2023-03-14T21:57:21.976Z"
   },
   {
    "duration": 4927,
    "start_time": "2023-03-14T21:57:21.981Z"
   },
   {
    "duration": 214,
    "start_time": "2023-03-14T21:57:26.910Z"
   },
   {
    "duration": 13,
    "start_time": "2023-03-14T21:57:27.126Z"
   },
   {
    "duration": 237,
    "start_time": "2023-03-14T21:57:27.141Z"
   },
   {
    "duration": 6,
    "start_time": "2023-03-14T21:57:27.379Z"
   },
   {
    "duration": 379,
    "start_time": "2023-03-14T21:57:27.387Z"
   },
   {
    "duration": 9,
    "start_time": "2023-03-14T21:57:27.767Z"
   },
   {
    "duration": 285,
    "start_time": "2023-03-14T21:57:27.779Z"
   },
   {
    "duration": 7,
    "start_time": "2023-03-14T21:57:28.066Z"
   },
   {
    "duration": 147,
    "start_time": "2023-03-14T21:57:28.074Z"
   },
   {
    "duration": 6,
    "start_time": "2023-03-14T21:57:28.222Z"
   },
   {
    "duration": 105,
    "start_time": "2023-03-14T21:57:28.229Z"
   },
   {
    "duration": 8,
    "start_time": "2023-03-14T21:57:28.335Z"
   },
   {
    "duration": 1179,
    "start_time": "2023-03-14T21:57:28.344Z"
   },
   {
    "duration": 11,
    "start_time": "2023-03-14T21:57:29.525Z"
   },
   {
    "duration": 94,
    "start_time": "2023-03-14T21:57:29.537Z"
   },
   {
    "duration": 7,
    "start_time": "2023-03-14T21:57:29.633Z"
   },
   {
    "duration": 71,
    "start_time": "2023-03-14T21:57:29.641Z"
   },
   {
    "duration": 7,
    "start_time": "2023-03-14T21:57:29.713Z"
   },
   {
    "duration": 1119,
    "start_time": "2023-03-14T21:57:29.721Z"
   },
   {
    "duration": 17,
    "start_time": "2023-03-14T21:57:30.842Z"
   },
   {
    "duration": 926,
    "start_time": "2023-03-14T21:57:30.860Z"
   },
   {
    "duration": 12,
    "start_time": "2023-03-14T21:57:31.787Z"
   },
   {
    "duration": 58,
    "start_time": "2023-03-14T21:57:31.801Z"
   },
   {
    "duration": 260,
    "start_time": "2023-03-14T21:57:31.861Z"
   },
   {
    "duration": 0,
    "start_time": "2023-03-14T21:57:32.124Z"
   },
   {
    "duration": 0,
    "start_time": "2023-03-14T21:57:32.125Z"
   },
   {
    "duration": 0,
    "start_time": "2023-03-14T21:57:32.126Z"
   },
   {
    "duration": 0,
    "start_time": "2023-03-14T21:57:32.128Z"
   },
   {
    "duration": 0,
    "start_time": "2023-03-14T21:57:32.129Z"
   },
   {
    "duration": 48,
    "start_time": "2023-03-15T09:57:59.231Z"
   },
   {
    "duration": 900,
    "start_time": "2023-03-15T09:58:03.613Z"
   },
   {
    "duration": 40,
    "start_time": "2023-03-15T09:58:08.430Z"
   },
   {
    "duration": 8,
    "start_time": "2023-03-15T09:58:33.178Z"
   },
   {
    "duration": 8,
    "start_time": "2023-03-15T09:58:55.135Z"
   },
   {
    "duration": 8,
    "start_time": "2023-03-15T09:59:15.064Z"
   },
   {
    "duration": 9,
    "start_time": "2023-03-15T10:00:04.425Z"
   },
   {
    "duration": 3,
    "start_time": "2023-03-15T10:00:24.309Z"
   },
   {
    "duration": 9,
    "start_time": "2023-03-15T10:00:32.587Z"
   },
   {
    "duration": 3,
    "start_time": "2023-03-15T10:00:44.121Z"
   },
   {
    "duration": 8181,
    "start_time": "2023-03-15T10:14:15.730Z"
   },
   {
    "duration": 3,
    "start_time": "2023-03-15T10:14:27.409Z"
   },
   {
    "duration": 2149,
    "start_time": "2023-03-15T10:14:42.593Z"
   },
   {
    "duration": 1192,
    "start_time": "2023-03-15T10:14:44.745Z"
   },
   {
    "duration": 77,
    "start_time": "2023-03-15T10:14:45.939Z"
   },
   {
    "duration": 0,
    "start_time": "2023-03-15T10:14:46.018Z"
   },
   {
    "duration": 0,
    "start_time": "2023-03-15T10:14:46.019Z"
   },
   {
    "duration": 0,
    "start_time": "2023-03-15T10:14:46.020Z"
   },
   {
    "duration": 0,
    "start_time": "2023-03-15T10:14:46.023Z"
   },
   {
    "duration": 0,
    "start_time": "2023-03-15T10:14:46.024Z"
   },
   {
    "duration": 0,
    "start_time": "2023-03-15T10:14:46.025Z"
   },
   {
    "duration": 0,
    "start_time": "2023-03-15T10:14:46.026Z"
   },
   {
    "duration": 0,
    "start_time": "2023-03-15T10:14:46.027Z"
   },
   {
    "duration": 0,
    "start_time": "2023-03-15T10:14:46.029Z"
   },
   {
    "duration": 0,
    "start_time": "2023-03-15T10:14:46.030Z"
   },
   {
    "duration": 0,
    "start_time": "2023-03-15T10:14:46.031Z"
   },
   {
    "duration": 0,
    "start_time": "2023-03-15T10:14:46.032Z"
   },
   {
    "duration": 0,
    "start_time": "2023-03-15T10:14:46.057Z"
   },
   {
    "duration": 0,
    "start_time": "2023-03-15T10:14:46.058Z"
   },
   {
    "duration": 0,
    "start_time": "2023-03-15T10:14:46.059Z"
   },
   {
    "duration": 0,
    "start_time": "2023-03-15T10:14:46.060Z"
   },
   {
    "duration": 0,
    "start_time": "2023-03-15T10:14:46.061Z"
   },
   {
    "duration": 0,
    "start_time": "2023-03-15T10:14:46.062Z"
   },
   {
    "duration": 0,
    "start_time": "2023-03-15T10:14:46.063Z"
   },
   {
    "duration": 0,
    "start_time": "2023-03-15T10:14:46.064Z"
   },
   {
    "duration": 0,
    "start_time": "2023-03-15T10:14:46.066Z"
   },
   {
    "duration": 0,
    "start_time": "2023-03-15T10:14:46.067Z"
   },
   {
    "duration": 0,
    "start_time": "2023-03-15T10:14:46.068Z"
   },
   {
    "duration": 0,
    "start_time": "2023-03-15T10:14:46.069Z"
   },
   {
    "duration": 0,
    "start_time": "2023-03-15T10:14:46.070Z"
   },
   {
    "duration": 0,
    "start_time": "2023-03-15T10:14:46.071Z"
   },
   {
    "duration": 0,
    "start_time": "2023-03-15T10:14:46.072Z"
   },
   {
    "duration": 0,
    "start_time": "2023-03-15T10:14:46.073Z"
   },
   {
    "duration": 0,
    "start_time": "2023-03-15T10:14:46.074Z"
   },
   {
    "duration": 0,
    "start_time": "2023-03-15T10:14:46.075Z"
   },
   {
    "duration": 0,
    "start_time": "2023-03-15T10:14:46.076Z"
   },
   {
    "duration": 2186,
    "start_time": "2023-03-15T10:15:51.781Z"
   },
   {
    "duration": 1094,
    "start_time": "2023-03-15T10:15:53.969Z"
   },
   {
    "duration": 3,
    "start_time": "2023-03-15T10:15:55.065Z"
   },
   {
    "duration": 5129,
    "start_time": "2023-03-15T10:15:55.070Z"
   },
   {
    "duration": 230,
    "start_time": "2023-03-15T10:16:00.201Z"
   },
   {
    "duration": 15,
    "start_time": "2023-03-15T10:16:00.432Z"
   },
   {
    "duration": 252,
    "start_time": "2023-03-15T10:16:00.448Z"
   },
   {
    "duration": 7,
    "start_time": "2023-03-15T10:16:00.702Z"
   },
   {
    "duration": 309,
    "start_time": "2023-03-15T10:16:00.711Z"
   },
   {
    "duration": 9,
    "start_time": "2023-03-15T10:16:01.023Z"
   },
   {
    "duration": 321,
    "start_time": "2023-03-15T10:16:01.034Z"
   },
   {
    "duration": 7,
    "start_time": "2023-03-15T10:16:01.357Z"
   },
   {
    "duration": 168,
    "start_time": "2023-03-15T10:16:01.365Z"
   },
   {
    "duration": 6,
    "start_time": "2023-03-15T10:16:01.535Z"
   },
   {
    "duration": 117,
    "start_time": "2023-03-15T10:16:01.543Z"
   },
   {
    "duration": 7,
    "start_time": "2023-03-15T10:16:01.662Z"
   },
   {
    "duration": 1223,
    "start_time": "2023-03-15T10:16:01.671Z"
   },
   {
    "duration": 11,
    "start_time": "2023-03-15T10:16:02.896Z"
   },
   {
    "duration": 103,
    "start_time": "2023-03-15T10:16:02.909Z"
   },
   {
    "duration": 7,
    "start_time": "2023-03-15T10:16:03.014Z"
   },
   {
    "duration": 80,
    "start_time": "2023-03-15T10:16:03.022Z"
   },
   {
    "duration": 6,
    "start_time": "2023-03-15T10:16:03.104Z"
   },
   {
    "duration": 1116,
    "start_time": "2023-03-15T10:16:03.112Z"
   },
   {
    "duration": 27,
    "start_time": "2023-03-15T10:16:04.230Z"
   },
   {
    "duration": 908,
    "start_time": "2023-03-15T10:16:04.259Z"
   },
   {
    "duration": 12,
    "start_time": "2023-03-15T10:16:05.168Z"
   },
   {
    "duration": 39,
    "start_time": "2023-03-15T10:16:05.182Z"
   },
   {
    "duration": 347,
    "start_time": "2023-03-15T10:16:05.226Z"
   },
   {
    "duration": 236,
    "start_time": "2023-03-15T10:16:05.575Z"
   },
   {
    "duration": 7,
    "start_time": "2023-03-15T10:16:05.813Z"
   },
   {
    "duration": 279,
    "start_time": "2023-03-15T10:16:05.822Z"
   },
   {
    "duration": 0,
    "start_time": "2023-03-15T10:16:06.103Z"
   },
   {
    "duration": 0,
    "start_time": "2023-03-15T10:16:06.104Z"
   },
   {
    "duration": 160,
    "start_time": "2023-03-15T10:18:23.826Z"
   },
   {
    "duration": 58,
    "start_time": "2023-03-15T10:20:23.341Z"
   },
   {
    "duration": 6,
    "start_time": "2023-03-15T10:20:28.962Z"
   },
   {
    "duration": 308,
    "start_time": "2023-03-15T11:19:21.196Z"
   },
   {
    "duration": 10,
    "start_time": "2023-03-15T11:19:30.830Z"
   },
   {
    "duration": 23,
    "start_time": "2023-03-15T11:19:43.417Z"
   },
   {
    "duration": 288,
    "start_time": "2023-03-15T11:19:48.507Z"
   },
   {
    "duration": 551,
    "start_time": "2023-03-15T11:33:45.751Z"
   },
   {
    "duration": 7,
    "start_time": "2023-03-15T11:33:52.527Z"
   },
   {
    "duration": 307,
    "start_time": "2023-03-15T11:34:24.815Z"
   },
   {
    "duration": 7,
    "start_time": "2023-03-15T11:34:28.328Z"
   },
   {
    "duration": 303,
    "start_time": "2023-03-15T11:34:33.111Z"
   },
   {
    "duration": 7,
    "start_time": "2023-03-15T11:34:37.747Z"
   },
   {
    "duration": 326,
    "start_time": "2023-03-15T11:37:10.231Z"
   },
   {
    "duration": 7,
    "start_time": "2023-03-15T11:37:11.834Z"
   },
   {
    "duration": 504,
    "start_time": "2023-03-15T11:37:13.833Z"
   },
   {
    "duration": 6,
    "start_time": "2023-03-15T11:37:15.924Z"
   },
   {
    "duration": 308,
    "start_time": "2023-03-15T11:37:18.833Z"
   },
   {
    "duration": 7,
    "start_time": "2023-03-15T11:37:20.156Z"
   },
   {
    "duration": 319,
    "start_time": "2023-03-15T11:37:26.127Z"
   },
   {
    "duration": 8,
    "start_time": "2023-03-15T11:37:30.342Z"
   },
   {
    "duration": 305,
    "start_time": "2023-03-15T11:37:45.836Z"
   },
   {
    "duration": 8,
    "start_time": "2023-03-15T11:37:48.222Z"
   },
   {
    "duration": 312,
    "start_time": "2023-03-15T11:37:50.615Z"
   },
   {
    "duration": 8,
    "start_time": "2023-03-15T11:37:52.307Z"
   },
   {
    "duration": 312,
    "start_time": "2023-03-15T11:37:54.298Z"
   },
   {
    "duration": 9,
    "start_time": "2023-03-15T11:37:55.820Z"
   },
   {
    "duration": 2230,
    "start_time": "2023-03-15T11:38:36.207Z"
   },
   {
    "duration": 1134,
    "start_time": "2023-03-15T11:38:38.440Z"
   },
   {
    "duration": 4,
    "start_time": "2023-03-15T11:38:39.577Z"
   },
   {
    "duration": 5012,
    "start_time": "2023-03-15T11:38:39.583Z"
   },
   {
    "duration": 203,
    "start_time": "2023-03-15T11:38:44.597Z"
   },
   {
    "duration": 13,
    "start_time": "2023-03-15T11:38:44.802Z"
   },
   {
    "duration": 266,
    "start_time": "2023-03-15T11:38:44.817Z"
   },
   {
    "duration": 7,
    "start_time": "2023-03-15T11:38:45.084Z"
   },
   {
    "duration": 323,
    "start_time": "2023-03-15T11:38:45.093Z"
   },
   {
    "duration": 12,
    "start_time": "2023-03-15T11:38:45.418Z"
   },
   {
    "duration": 301,
    "start_time": "2023-03-15T11:38:45.432Z"
   },
   {
    "duration": 7,
    "start_time": "2023-03-15T11:38:45.735Z"
   },
   {
    "duration": 148,
    "start_time": "2023-03-15T11:38:45.744Z"
   },
   {
    "duration": 10,
    "start_time": "2023-03-15T11:38:45.898Z"
   },
   {
    "duration": 110,
    "start_time": "2023-03-15T11:38:45.909Z"
   },
   {
    "duration": 7,
    "start_time": "2023-03-15T11:38:46.021Z"
   },
   {
    "duration": 1172,
    "start_time": "2023-03-15T11:38:46.030Z"
   },
   {
    "duration": 12,
    "start_time": "2023-03-15T11:38:47.204Z"
   },
   {
    "duration": 86,
    "start_time": "2023-03-15T11:38:47.217Z"
   },
   {
    "duration": 7,
    "start_time": "2023-03-15T11:38:47.305Z"
   },
   {
    "duration": 59,
    "start_time": "2023-03-15T11:38:47.315Z"
   },
   {
    "duration": 8,
    "start_time": "2023-03-15T11:38:47.376Z"
   },
   {
    "duration": 1068,
    "start_time": "2023-03-15T11:38:47.386Z"
   },
   {
    "duration": 11,
    "start_time": "2023-03-15T11:38:48.456Z"
   },
   {
    "duration": 291,
    "start_time": "2023-03-15T11:38:48.468Z"
   },
   {
    "duration": 9,
    "start_time": "2023-03-15T11:38:48.761Z"
   },
   {
    "duration": 25,
    "start_time": "2023-03-15T11:38:48.772Z"
   },
   {
    "duration": 332,
    "start_time": "2023-03-15T11:38:48.799Z"
   },
   {
    "duration": 231,
    "start_time": "2023-03-15T11:38:49.133Z"
   },
   {
    "duration": 8,
    "start_time": "2023-03-15T11:38:49.365Z"
   },
   {
    "duration": 209,
    "start_time": "2023-03-15T11:38:49.375Z"
   },
   {
    "duration": 306,
    "start_time": "2023-03-15T11:38:49.585Z"
   },
   {
    "duration": 7,
    "start_time": "2023-03-15T11:38:49.893Z"
   },
   {
    "duration": 2180,
    "start_time": "2023-03-15T11:40:20.314Z"
   },
   {
    "duration": 1044,
    "start_time": "2023-03-15T11:40:22.497Z"
   },
   {
    "duration": 3,
    "start_time": "2023-03-15T11:40:23.543Z"
   },
   {
    "duration": 5356,
    "start_time": "2023-03-15T11:40:23.547Z"
   },
   {
    "duration": 164,
    "start_time": "2023-03-15T11:40:28.905Z"
   },
   {
    "duration": 14,
    "start_time": "2023-03-15T11:40:29.071Z"
   },
   {
    "duration": 1475,
    "start_time": "2023-03-15T11:40:29.087Z"
   },
   {
    "duration": 6,
    "start_time": "2023-03-15T11:40:30.564Z"
   },
   {
    "duration": 2277,
    "start_time": "2023-03-15T11:40:30.571Z"
   },
   {
    "duration": 9,
    "start_time": "2023-03-15T11:40:32.851Z"
   },
   {
    "duration": 309,
    "start_time": "2023-03-15T11:40:32.861Z"
   },
   {
    "duration": 7,
    "start_time": "2023-03-15T11:40:33.172Z"
   },
   {
    "duration": 145,
    "start_time": "2023-03-15T11:40:33.181Z"
   },
   {
    "duration": 7,
    "start_time": "2023-03-15T11:40:33.330Z"
   },
   {
    "duration": 101,
    "start_time": "2023-03-15T11:40:33.339Z"
   },
   {
    "duration": 7,
    "start_time": "2023-03-15T11:40:33.441Z"
   },
   {
    "duration": 1211,
    "start_time": "2023-03-15T11:40:33.449Z"
   },
   {
    "duration": 11,
    "start_time": "2023-03-15T11:40:34.662Z"
   },
   {
    "duration": 84,
    "start_time": "2023-03-15T11:40:34.675Z"
   },
   {
    "duration": 7,
    "start_time": "2023-03-15T11:40:34.760Z"
   },
   {
    "duration": 56,
    "start_time": "2023-03-15T11:40:34.769Z"
   },
   {
    "duration": 6,
    "start_time": "2023-03-15T11:40:34.826Z"
   },
   {
    "duration": 1070,
    "start_time": "2023-03-15T11:40:34.834Z"
   },
   {
    "duration": 10,
    "start_time": "2023-03-15T11:40:35.906Z"
   },
   {
    "duration": 303,
    "start_time": "2023-03-15T11:40:35.918Z"
   },
   {
    "duration": 13,
    "start_time": "2023-03-15T11:40:36.223Z"
   },
   {
    "duration": 40,
    "start_time": "2023-03-15T11:40:36.238Z"
   },
   {
    "duration": 319,
    "start_time": "2023-03-15T11:40:36.280Z"
   },
   {
    "duration": 249,
    "start_time": "2023-03-15T11:40:36.601Z"
   },
   {
    "duration": 7,
    "start_time": "2023-03-15T11:40:36.851Z"
   },
   {
    "duration": 219,
    "start_time": "2023-03-15T11:40:36.860Z"
   },
   {
    "duration": 298,
    "start_time": "2023-03-15T11:40:37.081Z"
   },
   {
    "duration": 7,
    "start_time": "2023-03-15T11:40:37.380Z"
   },
   {
    "duration": 85,
    "start_time": "2023-03-15T11:46:13.300Z"
   },
   {
    "duration": 844,
    "start_time": "2023-03-15T11:46:44.523Z"
   },
   {
    "duration": 326,
    "start_time": "2023-03-15T11:48:41.307Z"
   },
   {
    "duration": 60,
    "start_time": "2023-03-16T09:46:01.201Z"
   },
   {
    "duration": 7943,
    "start_time": "2023-03-16T09:46:05.535Z"
   },
   {
    "duration": 1302,
    "start_time": "2023-03-16T09:46:13.480Z"
   },
   {
    "duration": 4,
    "start_time": "2023-03-16T09:46:14.784Z"
   },
   {
    "duration": 8346,
    "start_time": "2023-03-16T09:46:14.790Z"
   },
   {
    "duration": 67,
    "start_time": "2023-03-16T09:46:23.138Z"
   },
   {
    "duration": 15,
    "start_time": "2023-03-16T09:46:23.206Z"
   },
   {
    "duration": 225,
    "start_time": "2023-03-16T09:46:23.223Z"
   },
   {
    "duration": 7,
    "start_time": "2023-03-16T09:46:23.451Z"
   },
   {
    "duration": 257,
    "start_time": "2023-03-16T09:46:23.460Z"
   },
   {
    "duration": 10,
    "start_time": "2023-03-16T09:46:23.719Z"
   },
   {
    "duration": 254,
    "start_time": "2023-03-16T09:46:23.731Z"
   },
   {
    "duration": 7,
    "start_time": "2023-03-16T09:46:23.987Z"
   },
   {
    "duration": 120,
    "start_time": "2023-03-16T09:46:23.996Z"
   },
   {
    "duration": 6,
    "start_time": "2023-03-16T09:46:24.121Z"
   },
   {
    "duration": 73,
    "start_time": "2023-03-16T09:46:24.129Z"
   },
   {
    "duration": 8,
    "start_time": "2023-03-16T09:46:24.204Z"
   },
   {
    "duration": 1179,
    "start_time": "2023-03-16T09:46:24.213Z"
   },
   {
    "duration": 12,
    "start_time": "2023-03-16T09:46:25.394Z"
   },
   {
    "duration": 58,
    "start_time": "2023-03-16T09:46:25.408Z"
   },
   {
    "duration": 8,
    "start_time": "2023-03-16T09:46:25.468Z"
   },
   {
    "duration": 30,
    "start_time": "2023-03-16T09:46:25.479Z"
   },
   {
    "duration": 5,
    "start_time": "2023-03-16T09:46:25.511Z"
   },
   {
    "duration": 1059,
    "start_time": "2023-03-16T09:46:25.518Z"
   },
   {
    "duration": 16,
    "start_time": "2023-03-16T09:46:26.579Z"
   },
   {
    "duration": 266,
    "start_time": "2023-03-16T09:46:26.598Z"
   },
   {
    "duration": 12,
    "start_time": "2023-03-16T09:46:26.866Z"
   },
   {
    "duration": 33,
    "start_time": "2023-03-16T09:46:26.881Z"
   },
   {
    "duration": 392,
    "start_time": "2023-03-16T09:46:26.916Z"
   },
   {
    "duration": 841,
    "start_time": "2023-03-16T09:46:27.310Z"
   },
   {
    "duration": 208,
    "start_time": "2023-03-16T09:46:28.153Z"
   },
   {
    "duration": 8,
    "start_time": "2023-03-16T09:46:28.362Z"
   },
   {
    "duration": 225,
    "start_time": "2023-03-16T09:46:28.372Z"
   },
   {
    "duration": 280,
    "start_time": "2023-03-16T09:46:28.600Z"
   },
   {
    "duration": 7,
    "start_time": "2023-03-16T09:46:28.883Z"
   },
   {
    "duration": 279,
    "start_time": "2023-03-16T09:47:28.584Z"
   },
   {
    "duration": 7,
    "start_time": "2023-03-16T09:47:29.534Z"
   },
   {
    "duration": 294,
    "start_time": "2023-03-16T09:47:30.125Z"
   },
   {
    "duration": 7,
    "start_time": "2023-03-16T09:47:30.985Z"
   },
   {
    "duration": 287,
    "start_time": "2023-03-16T09:47:31.498Z"
   },
   {
    "duration": 10,
    "start_time": "2023-03-16T09:47:32.281Z"
   },
   {
    "duration": 296,
    "start_time": "2023-03-16T09:47:32.884Z"
   },
   {
    "duration": 8,
    "start_time": "2023-03-16T09:47:33.430Z"
   },
   {
    "duration": 2386,
    "start_time": "2023-03-16T09:47:50.336Z"
   },
   {
    "duration": 1104,
    "start_time": "2023-03-16T09:47:52.725Z"
   },
   {
    "duration": 4,
    "start_time": "2023-03-16T09:47:53.831Z"
   },
   {
    "duration": 8015,
    "start_time": "2023-03-16T09:47:53.838Z"
   },
   {
    "duration": 39,
    "start_time": "2023-03-16T09:48:01.856Z"
   },
   {
    "duration": 102,
    "start_time": "2023-03-16T09:48:01.897Z"
   },
   {
    "duration": 241,
    "start_time": "2023-03-16T09:48:02.001Z"
   },
   {
    "duration": 7,
    "start_time": "2023-03-16T09:48:02.245Z"
   },
   {
    "duration": 294,
    "start_time": "2023-03-16T09:48:02.254Z"
   },
   {
    "duration": 12,
    "start_time": "2023-03-16T09:48:02.550Z"
   },
   {
    "duration": 298,
    "start_time": "2023-03-16T09:48:02.564Z"
   },
   {
    "duration": 10,
    "start_time": "2023-03-16T09:48:02.864Z"
   },
   {
    "duration": 255,
    "start_time": "2023-03-16T09:48:02.876Z"
   },
   {
    "duration": 7,
    "start_time": "2023-03-16T09:48:03.135Z"
   },
   {
    "duration": 95,
    "start_time": "2023-03-16T09:48:03.143Z"
   },
   {
    "duration": 8,
    "start_time": "2023-03-16T09:48:03.240Z"
   },
   {
    "duration": 1228,
    "start_time": "2023-03-16T09:48:03.250Z"
   },
   {
    "duration": 16,
    "start_time": "2023-03-16T09:48:04.480Z"
   },
   {
    "duration": 161,
    "start_time": "2023-03-16T09:48:04.498Z"
   },
   {
    "duration": 9,
    "start_time": "2023-03-16T09:48:04.662Z"
   },
   {
    "duration": 38,
    "start_time": "2023-03-16T09:48:04.673Z"
   },
   {
    "duration": 7,
    "start_time": "2023-03-16T09:48:04.713Z"
   },
   {
    "duration": 1062,
    "start_time": "2023-03-16T09:48:04.722Z"
   },
   {
    "duration": 12,
    "start_time": "2023-03-16T09:48:05.786Z"
   },
   {
    "duration": 272,
    "start_time": "2023-03-16T09:48:05.800Z"
   },
   {
    "duration": 10,
    "start_time": "2023-03-16T09:48:06.074Z"
   },
   {
    "duration": 40,
    "start_time": "2023-03-16T09:48:06.085Z"
   },
   {
    "duration": 322,
    "start_time": "2023-03-16T09:48:06.127Z"
   },
   {
    "duration": 837,
    "start_time": "2023-03-16T09:48:06.451Z"
   },
   {
    "duration": 212,
    "start_time": "2023-03-16T09:48:07.290Z"
   },
   {
    "duration": 7,
    "start_time": "2023-03-16T09:48:07.503Z"
   },
   {
    "duration": 199,
    "start_time": "2023-03-16T09:48:07.512Z"
   },
   {
    "duration": 286,
    "start_time": "2023-03-16T09:48:07.713Z"
   },
   {
    "duration": 8,
    "start_time": "2023-03-16T09:48:08.001Z"
   }
  ],
  "colab": {
   "provenance": []
  },
  "kernelspec": {
   "display_name": "Python 3 (ipykernel)",
   "language": "python",
   "name": "python3"
  },
  "language_info": {
   "codemirror_mode": {
    "name": "ipython",
    "version": 3
   },
   "file_extension": ".py",
   "mimetype": "text/x-python",
   "name": "python",
   "nbconvert_exporter": "python",
   "pygments_lexer": "ipython3",
   "version": "3.9.5"
  },
  "toc": {
   "base_numbering": 1,
   "nav_menu": {},
   "number_sections": true,
   "sideBar": true,
   "skip_h1_title": true,
   "title_cell": "Table of Contents",
   "title_sidebar": "Contents",
   "toc_cell": false,
   "toc_position": {},
   "toc_section_display": true,
   "toc_window_display": false
  }
 },
 "nbformat": 4,
 "nbformat_minor": 1
}
